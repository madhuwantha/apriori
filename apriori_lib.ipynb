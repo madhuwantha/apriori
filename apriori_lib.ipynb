{
 "cells": [
  {
   "cell_type": "code",
   "execution_count": 1,
   "metadata": {},
   "outputs": [],
   "source": [
    "import pandas as pd\n",
    "import apriori_functions\n",
    "import define_\n",
    "from mlxtend.frequent_patterns import apriori\n",
    "from mlxtend.preprocessing import TransactionEncoder\n",
    "from mlxtend.frequent_patterns import association_rules"
   ]
  },
  {
   "cell_type": "code",
   "execution_count": 2,
   "metadata": {
    "pycharm": {
     "name": "#%%\n"
    }
   },
   "outputs": [
    {
     "name": "stderr",
     "output_type": "stream",
     "text": [
      "f:\\academic\\sem7\\fyp\\codes\\apriori\\venv\\lib\\site-packages\\IPython\\core\\interactiveshell.py:3146: DtypeWarning: Columns (0) have mixed types.Specify dtype option on import or set low_memory=False.\n",
      "  has_raised = await self.run_ast_nodes(code_ast.body, cell_name,\n"
     ]
    },
    {
     "data": {
      "text/plain": "  No.      Time      Source Destination Protocol  Length  \\\n0   1  0.000000   11.0.0.33   10.0.0.35      TCP    74.0   \n1   2  0.003648   11.0.0.85   10.0.0.35      TCP    74.0   \n2   3  0.007831   11.0.0.33   10.0.0.35      SSH   110.0   \n3   4  0.007972  11.0.0.192   10.0.0.35      TCP    74.0   \n4   5  0.008050   11.0.0.85   10.0.0.35      TCP    66.0   \n\n                                                Info  Src_port  Dst_port Class  \n0  22  >  48308 [SYN, ACK] Seq=0 Ack=1 Win=27960 ...      22.0   48308.0    A2  \n1  22  >  32896 [SYN, ACK] Seq=0 Ack=1 Win=27960 ...      22.0   32896.0    A2  \n2  Server: Protocol (SSH-2.0-OpenSSH_6.6.1p1 Ubun...      22.0   48308.0    A2  \n3  22  >  58726 [SYN, ACK] Seq=0 Ack=1 Win=27960 ...      22.0   58726.0    A2  \n4  22  >  32896 [ACK] Seq=1 Ack=42 Win=27968 Len=...      22.0   32896.0    A2  ",
      "text/html": "<div>\n<style scoped>\n    .dataframe tbody tr th:only-of-type {\n        vertical-align: middle;\n    }\n\n    .dataframe tbody tr th {\n        vertical-align: top;\n    }\n\n    .dataframe thead th {\n        text-align: right;\n    }\n</style>\n<table border=\"1\" class=\"dataframe\">\n  <thead>\n    <tr style=\"text-align: right;\">\n      <th></th>\n      <th>No.</th>\n      <th>Time</th>\n      <th>Source</th>\n      <th>Destination</th>\n      <th>Protocol</th>\n      <th>Length</th>\n      <th>Info</th>\n      <th>Src_port</th>\n      <th>Dst_port</th>\n      <th>Class</th>\n    </tr>\n  </thead>\n  <tbody>\n    <tr>\n      <th>0</th>\n      <td>1</td>\n      <td>0.000000</td>\n      <td>11.0.0.33</td>\n      <td>10.0.0.35</td>\n      <td>TCP</td>\n      <td>74.0</td>\n      <td>22  &gt;  48308 [SYN, ACK] Seq=0 Ack=1 Win=27960 ...</td>\n      <td>22.0</td>\n      <td>48308.0</td>\n      <td>A2</td>\n    </tr>\n    <tr>\n      <th>1</th>\n      <td>2</td>\n      <td>0.003648</td>\n      <td>11.0.0.85</td>\n      <td>10.0.0.35</td>\n      <td>TCP</td>\n      <td>74.0</td>\n      <td>22  &gt;  32896 [SYN, ACK] Seq=0 Ack=1 Win=27960 ...</td>\n      <td>22.0</td>\n      <td>32896.0</td>\n      <td>A2</td>\n    </tr>\n    <tr>\n      <th>2</th>\n      <td>3</td>\n      <td>0.007831</td>\n      <td>11.0.0.33</td>\n      <td>10.0.0.35</td>\n      <td>SSH</td>\n      <td>110.0</td>\n      <td>Server: Protocol (SSH-2.0-OpenSSH_6.6.1p1 Ubun...</td>\n      <td>22.0</td>\n      <td>48308.0</td>\n      <td>A2</td>\n    </tr>\n    <tr>\n      <th>3</th>\n      <td>4</td>\n      <td>0.007972</td>\n      <td>11.0.0.192</td>\n      <td>10.0.0.35</td>\n      <td>TCP</td>\n      <td>74.0</td>\n      <td>22  &gt;  58726 [SYN, ACK] Seq=0 Ack=1 Win=27960 ...</td>\n      <td>22.0</td>\n      <td>58726.0</td>\n      <td>A2</td>\n    </tr>\n    <tr>\n      <th>4</th>\n      <td>5</td>\n      <td>0.008050</td>\n      <td>11.0.0.85</td>\n      <td>10.0.0.35</td>\n      <td>TCP</td>\n      <td>66.0</td>\n      <td>22  &gt;  32896 [ACK] Seq=1 Ack=42 Win=27968 Len=...</td>\n      <td>22.0</td>\n      <td>32896.0</td>\n      <td>A2</td>\n    </tr>\n  </tbody>\n</table>\n</div>"
     },
     "execution_count": 2,
     "metadata": {},
     "output_type": "execute_result"
    }
   ],
   "source": [
    "dataSet = pd.read_csv(define_.DATA_FILE_PATH)\n",
    "dataSet.head()"
   ]
  },
  {
   "cell_type": "code",
   "execution_count": 3,
   "outputs": [],
   "source": [
    "dataSet = dataSet.sample(1000)"
   ],
   "metadata": {
    "collapsed": false,
    "pycharm": {
     "name": "#%%\n"
    }
   }
  },
  {
   "cell_type": "code",
   "execution_count": 4,
   "outputs": [
    {
     "data": {
      "text/plain": "           No.      Time      Source Destination Protocol  Length  \\\n59809    59319  1.521656   11.0.0.33   10.0.0.35      TCP    54.0   \n185217  184727  5.836673   11.0.0.33   10.0.0.35      TCP    54.0   \n124814  124324  3.482118   11.0.0.33   10.0.0.35      TCP    54.0   \n10121     9631  0.264158   11.0.0.85   10.0.0.35      TCP    54.0   \n151002  150512  4.509277   11.0.0.85   10.0.0.35      TCP    54.0   \n...        ...       ...         ...         ...      ...     ...   \n123300  122810  3.397619   11.0.0.33   10.0.0.35      TCP    54.0   \n7806      7316  0.203023  11.0.0.192   10.0.0.35      TCP    54.0   \n59363    58873  1.508928  11.0.0.192   10.0.0.35      TCP    54.0   \n175074  174584  5.538249   11.0.0.33   10.0.0.35      TCP    54.0   \n139272  138782  4.070883   11.0.0.33   10.0.0.35      TCP    54.0   \n\n                                                     Info  Src_port  Dst_port  \\\n59809   65138  >  38438 [RST, ACK] Seq=1 Ack=1 Win=0 L...   65138.0   38438.0   \n185217  18073  >  40472 [RST, ACK] Seq=1 Ack=1 Win=0 L...   18073.0   40472.0   \n124814  51137  >  45314 [RST, ACK] Seq=1 Ack=1 Win=0 L...   51137.0   45314.0   \n10121   5797  >  53082 [RST, ACK] Seq=1 Ack=1 Win=0 Len=0    5797.0   53082.0   \n151002  14431  >  44296 [RST, ACK] Seq=1 Ack=1 Win=0 L...   14431.0   44296.0   \n...                                                   ...       ...       ...   \n123300  62347  >  58254 [RST, ACK] Seq=1 Ack=1 Win=0 L...   62347.0   58254.0   \n7806    36429  >  50922 [RST, ACK] Seq=1 Ack=1 Win=0 L...   36429.0   50922.0   \n59363   25813  >  35832 [RST, ACK] Seq=1 Ack=1 Win=0 L...   25813.0   35832.0   \n175074    18  >  50486 [RST, ACK] Seq=1 Ack=1 Win=0 Len=0      18.0   50486.0   \n139272  21544  >  33236 [RST, ACK] Seq=1 Ack=1 Win=0 L...   21544.0   33236.0   \n\n       Class  \n59809     A1  \n185217    A1  \n124814    A1  \n10121     A1  \n151002    A1  \n...      ...  \n123300    A1  \n7806      A1  \n59363     A1  \n175074    A1  \n139272    A1  \n\n[1000 rows x 10 columns]",
      "text/html": "<div>\n<style scoped>\n    .dataframe tbody tr th:only-of-type {\n        vertical-align: middle;\n    }\n\n    .dataframe tbody tr th {\n        vertical-align: top;\n    }\n\n    .dataframe thead th {\n        text-align: right;\n    }\n</style>\n<table border=\"1\" class=\"dataframe\">\n  <thead>\n    <tr style=\"text-align: right;\">\n      <th></th>\n      <th>No.</th>\n      <th>Time</th>\n      <th>Source</th>\n      <th>Destination</th>\n      <th>Protocol</th>\n      <th>Length</th>\n      <th>Info</th>\n      <th>Src_port</th>\n      <th>Dst_port</th>\n      <th>Class</th>\n    </tr>\n  </thead>\n  <tbody>\n    <tr>\n      <th>59809</th>\n      <td>59319</td>\n      <td>1.521656</td>\n      <td>11.0.0.33</td>\n      <td>10.0.0.35</td>\n      <td>TCP</td>\n      <td>54.0</td>\n      <td>65138  &gt;  38438 [RST, ACK] Seq=1 Ack=1 Win=0 L...</td>\n      <td>65138.0</td>\n      <td>38438.0</td>\n      <td>A1</td>\n    </tr>\n    <tr>\n      <th>185217</th>\n      <td>184727</td>\n      <td>5.836673</td>\n      <td>11.0.0.33</td>\n      <td>10.0.0.35</td>\n      <td>TCP</td>\n      <td>54.0</td>\n      <td>18073  &gt;  40472 [RST, ACK] Seq=1 Ack=1 Win=0 L...</td>\n      <td>18073.0</td>\n      <td>40472.0</td>\n      <td>A1</td>\n    </tr>\n    <tr>\n      <th>124814</th>\n      <td>124324</td>\n      <td>3.482118</td>\n      <td>11.0.0.33</td>\n      <td>10.0.0.35</td>\n      <td>TCP</td>\n      <td>54.0</td>\n      <td>51137  &gt;  45314 [RST, ACK] Seq=1 Ack=1 Win=0 L...</td>\n      <td>51137.0</td>\n      <td>45314.0</td>\n      <td>A1</td>\n    </tr>\n    <tr>\n      <th>10121</th>\n      <td>9631</td>\n      <td>0.264158</td>\n      <td>11.0.0.85</td>\n      <td>10.0.0.35</td>\n      <td>TCP</td>\n      <td>54.0</td>\n      <td>5797  &gt;  53082 [RST, ACK] Seq=1 Ack=1 Win=0 Len=0</td>\n      <td>5797.0</td>\n      <td>53082.0</td>\n      <td>A1</td>\n    </tr>\n    <tr>\n      <th>151002</th>\n      <td>150512</td>\n      <td>4.509277</td>\n      <td>11.0.0.85</td>\n      <td>10.0.0.35</td>\n      <td>TCP</td>\n      <td>54.0</td>\n      <td>14431  &gt;  44296 [RST, ACK] Seq=1 Ack=1 Win=0 L...</td>\n      <td>14431.0</td>\n      <td>44296.0</td>\n      <td>A1</td>\n    </tr>\n    <tr>\n      <th>...</th>\n      <td>...</td>\n      <td>...</td>\n      <td>...</td>\n      <td>...</td>\n      <td>...</td>\n      <td>...</td>\n      <td>...</td>\n      <td>...</td>\n      <td>...</td>\n      <td>...</td>\n    </tr>\n    <tr>\n      <th>123300</th>\n      <td>122810</td>\n      <td>3.397619</td>\n      <td>11.0.0.33</td>\n      <td>10.0.0.35</td>\n      <td>TCP</td>\n      <td>54.0</td>\n      <td>62347  &gt;  58254 [RST, ACK] Seq=1 Ack=1 Win=0 L...</td>\n      <td>62347.0</td>\n      <td>58254.0</td>\n      <td>A1</td>\n    </tr>\n    <tr>\n      <th>7806</th>\n      <td>7316</td>\n      <td>0.203023</td>\n      <td>11.0.0.192</td>\n      <td>10.0.0.35</td>\n      <td>TCP</td>\n      <td>54.0</td>\n      <td>36429  &gt;  50922 [RST, ACK] Seq=1 Ack=1 Win=0 L...</td>\n      <td>36429.0</td>\n      <td>50922.0</td>\n      <td>A1</td>\n    </tr>\n    <tr>\n      <th>59363</th>\n      <td>58873</td>\n      <td>1.508928</td>\n      <td>11.0.0.192</td>\n      <td>10.0.0.35</td>\n      <td>TCP</td>\n      <td>54.0</td>\n      <td>25813  &gt;  35832 [RST, ACK] Seq=1 Ack=1 Win=0 L...</td>\n      <td>25813.0</td>\n      <td>35832.0</td>\n      <td>A1</td>\n    </tr>\n    <tr>\n      <th>175074</th>\n      <td>174584</td>\n      <td>5.538249</td>\n      <td>11.0.0.33</td>\n      <td>10.0.0.35</td>\n      <td>TCP</td>\n      <td>54.0</td>\n      <td>18  &gt;  50486 [RST, ACK] Seq=1 Ack=1 Win=0 Len=0</td>\n      <td>18.0</td>\n      <td>50486.0</td>\n      <td>A1</td>\n    </tr>\n    <tr>\n      <th>139272</th>\n      <td>138782</td>\n      <td>4.070883</td>\n      <td>11.0.0.33</td>\n      <td>10.0.0.35</td>\n      <td>TCP</td>\n      <td>54.0</td>\n      <td>21544  &gt;  33236 [RST, ACK] Seq=1 Ack=1 Win=0 L...</td>\n      <td>21544.0</td>\n      <td>33236.0</td>\n      <td>A1</td>\n    </tr>\n  </tbody>\n</table>\n<p>1000 rows × 10 columns</p>\n</div>"
     },
     "execution_count": 4,
     "metadata": {},
     "output_type": "execute_result"
    }
   ],
   "source": [
    "dataSet"
   ],
   "metadata": {
    "collapsed": false,
    "pycharm": {
     "name": "#%%\n"
    }
   }
  },
  {
   "cell_type": "code",
   "execution_count": 3,
   "metadata": {
    "pycharm": {
     "name": "#%%\n"
    }
   },
   "outputs": [
    {
     "name": "stderr",
     "output_type": "stream",
     "text": [
      "F:\\Academic\\sem7\\FYP\\codes\\Apriori\\apriori_functions.py:143: SettingWithCopyWarning: \n",
      "A value is trying to be set on a copy of a slice from a DataFrame.\n",
      "Try using .loc[row_indexer,col_indexer] = value instead\n",
      "\n",
      "See the caveats in the documentation: https://pandas.pydata.org/pandas-docs/stable/user_guide/indexing.html#returning-a-view-versus-a-copy\n",
      "  dataSet['Dst_ip_range'] = dataSet.apply(lambda row: check_ip(str(row[\"Destination\"])), axis=1)\n",
      "F:\\Academic\\sem7\\FYP\\codes\\Apriori\\apriori_functions.py:144: SettingWithCopyWarning: \n",
      "A value is trying to be set on a copy of a slice from a DataFrame.\n",
      "Try using .loc[row_indexer,col_indexer] = value instead\n",
      "\n",
      "See the caveats in the documentation: https://pandas.pydata.org/pandas-docs/stable/user_guide/indexing.html#returning-a-view-versus-a-copy\n",
      "  dataSet['Direction'] = dataSet.apply(lambda row: check_direction(str(row[\"Destination\"]), cidr), axis=1)\n"
     ]
    },
    {
     "data": {
      "text/plain": "       Protocol Length   Dst_port Class Dst_ip_range Direction\n0         p-TCP  l-1.0  d-48308.0  c-A2    r-PRIVATE     x-OUT\n1         p-TCP  l-1.0  d-32896.0  c-A2    r-PRIVATE     x-OUT\n2         p-SSH  l-1.0  d-48308.0  c-A2    r-PRIVATE     x-OUT\n3         p-TCP  l-1.0  d-58726.0  c-A2    r-PRIVATE     x-OUT\n4         p-TCP  l-1.0  d-32896.0  c-A2    r-PRIVATE     x-OUT\n...         ...    ...        ...   ...          ...       ...\n197904    p-SSH  l-2.0  d-60924.0  c-A1    r-PRIVATE     x-OUT\n197905    p-SSH  l-1.0  d-60924.0  c-A1    r-PRIVATE     x-OUT\n197906    p-SSH  l-1.0  d-60924.0  c-A1    r-PRIVATE     x-OUT\n197907    p-SSH  l-1.0  d-60924.0  c-A1    r-PRIVATE     x-OUT\n197908    p-TCP  l-1.0  d-60924.0  c-A1    r-PRIVATE     x-OUT\n\n[197909 rows x 6 columns]",
      "text/html": "<div>\n<style scoped>\n    .dataframe tbody tr th:only-of-type {\n        vertical-align: middle;\n    }\n\n    .dataframe tbody tr th {\n        vertical-align: top;\n    }\n\n    .dataframe thead th {\n        text-align: right;\n    }\n</style>\n<table border=\"1\" class=\"dataframe\">\n  <thead>\n    <tr style=\"text-align: right;\">\n      <th></th>\n      <th>Protocol</th>\n      <th>Length</th>\n      <th>Dst_port</th>\n      <th>Class</th>\n      <th>Dst_ip_range</th>\n      <th>Direction</th>\n    </tr>\n  </thead>\n  <tbody>\n    <tr>\n      <th>0</th>\n      <td>p-TCP</td>\n      <td>l-1.0</td>\n      <td>d-48308.0</td>\n      <td>c-A2</td>\n      <td>r-PRIVATE</td>\n      <td>x-OUT</td>\n    </tr>\n    <tr>\n      <th>1</th>\n      <td>p-TCP</td>\n      <td>l-1.0</td>\n      <td>d-32896.0</td>\n      <td>c-A2</td>\n      <td>r-PRIVATE</td>\n      <td>x-OUT</td>\n    </tr>\n    <tr>\n      <th>2</th>\n      <td>p-SSH</td>\n      <td>l-1.0</td>\n      <td>d-48308.0</td>\n      <td>c-A2</td>\n      <td>r-PRIVATE</td>\n      <td>x-OUT</td>\n    </tr>\n    <tr>\n      <th>3</th>\n      <td>p-TCP</td>\n      <td>l-1.0</td>\n      <td>d-58726.0</td>\n      <td>c-A2</td>\n      <td>r-PRIVATE</td>\n      <td>x-OUT</td>\n    </tr>\n    <tr>\n      <th>4</th>\n      <td>p-TCP</td>\n      <td>l-1.0</td>\n      <td>d-32896.0</td>\n      <td>c-A2</td>\n      <td>r-PRIVATE</td>\n      <td>x-OUT</td>\n    </tr>\n    <tr>\n      <th>...</th>\n      <td>...</td>\n      <td>...</td>\n      <td>...</td>\n      <td>...</td>\n      <td>...</td>\n      <td>...</td>\n    </tr>\n    <tr>\n      <th>197904</th>\n      <td>p-SSH</td>\n      <td>l-2.0</td>\n      <td>d-60924.0</td>\n      <td>c-A1</td>\n      <td>r-PRIVATE</td>\n      <td>x-OUT</td>\n    </tr>\n    <tr>\n      <th>197905</th>\n      <td>p-SSH</td>\n      <td>l-1.0</td>\n      <td>d-60924.0</td>\n      <td>c-A1</td>\n      <td>r-PRIVATE</td>\n      <td>x-OUT</td>\n    </tr>\n    <tr>\n      <th>197906</th>\n      <td>p-SSH</td>\n      <td>l-1.0</td>\n      <td>d-60924.0</td>\n      <td>c-A1</td>\n      <td>r-PRIVATE</td>\n      <td>x-OUT</td>\n    </tr>\n    <tr>\n      <th>197907</th>\n      <td>p-SSH</td>\n      <td>l-1.0</td>\n      <td>d-60924.0</td>\n      <td>c-A1</td>\n      <td>r-PRIVATE</td>\n      <td>x-OUT</td>\n    </tr>\n    <tr>\n      <th>197908</th>\n      <td>p-TCP</td>\n      <td>l-1.0</td>\n      <td>d-60924.0</td>\n      <td>c-A1</td>\n      <td>r-PRIVATE</td>\n      <td>x-OUT</td>\n    </tr>\n  </tbody>\n</table>\n<p>197909 rows × 6 columns</p>\n</div>"
     },
     "execution_count": 3,
     "metadata": {},
     "output_type": "execute_result"
    }
   ],
   "source": [
    "dataSet = apriori_functions.preProcessing(dataSet)\n",
    "dataSet"
   ]
  },
  {
   "cell_type": "code",
   "execution_count": 6,
   "metadata": {
    "pycharm": {
     "name": "#%%\n"
    }
   },
   "outputs": [
    {
     "data": {
      "text/plain": "Index(['Protocol', 'Length', 'Dst_port', 'Class', 'Dst_ip_range', 'Direction'], dtype='object')"
     },
     "execution_count": 6,
     "metadata": {},
     "output_type": "execute_result"
    }
   ],
   "source": [
    "dataSet.columns"
   ]
  },
  {
   "cell_type": "code",
   "execution_count": 4,
   "metadata": {
    "pycharm": {
     "name": "#%%\n"
    }
   },
   "outputs": [
    {
     "data": {
      "text/plain": "        c-A1  c-A2  c-A3  d-22.0  d-32768.0  d-32770.0  d-32772.0  d-32774.0  \\\n0          0     1     0       0          0          0          0          0   \n1          0     1     0       0          0          0          0          0   \n2          0     1     0       0          0          0          0          0   \n3          0     1     0       0          0          0          0          0   \n4          0     1     0       0          0          0          0          0   \n...      ...   ...   ...     ...        ...        ...        ...        ...   \n197904     1     0     0       0          0          0          0          0   \n197905     1     0     0       0          0          0          0          0   \n197906     1     0     0       0          0          0          0          0   \n197907     1     0     0       0          0          0          0          0   \n197908     1     0     0       0          0          0          0          0   \n\n        d-32776.0  d-32778.0  ...  p-ARP  p-DNS  p-SSH  p-SSHv2  p-TCP  r-NON  \\\n0               0          0  ...      0      0      0        0      1      0   \n1               0          0  ...      0      0      0        0      1      0   \n2               0          0  ...      0      0      1        0      0      0   \n3               0          0  ...      0      0      0        0      1      0   \n4               0          0  ...      0      0      0        0      1      0   \n...           ...        ...  ...    ...    ...    ...      ...    ...    ...   \n197904          0          0  ...      0      0      1        0      0      0   \n197905          0          0  ...      0      0      1        0      0      0   \n197906          0          0  ...      0      0      1        0      0      0   \n197907          0          0  ...      0      0      1        0      0      0   \n197908          0          0  ...      0      0      0        0      1      0   \n\n        r-PRIVATE  r-PUBLIC  x-NON  x-OUT  \n0            True         0      0   True  \n1            True         0      0   True  \n2            True         0      0   True  \n3            True         0      0   True  \n4            True         0      0   True  \n...           ...       ...    ...    ...  \n197904       True         0      0   True  \n197905       True         0      0   True  \n197906       True         0      0   True  \n197907       True         0      0   True  \n197908       True         0      0   True  \n\n[197909 rows x 14135 columns]",
      "text/html": "<div>\n<style scoped>\n    .dataframe tbody tr th:only-of-type {\n        vertical-align: middle;\n    }\n\n    .dataframe tbody tr th {\n        vertical-align: top;\n    }\n\n    .dataframe thead th {\n        text-align: right;\n    }\n</style>\n<table border=\"1\" class=\"dataframe\">\n  <thead>\n    <tr style=\"text-align: right;\">\n      <th></th>\n      <th>c-A1</th>\n      <th>c-A2</th>\n      <th>c-A3</th>\n      <th>d-22.0</th>\n      <th>d-32768.0</th>\n      <th>d-32770.0</th>\n      <th>d-32772.0</th>\n      <th>d-32774.0</th>\n      <th>d-32776.0</th>\n      <th>d-32778.0</th>\n      <th>...</th>\n      <th>p-ARP</th>\n      <th>p-DNS</th>\n      <th>p-SSH</th>\n      <th>p-SSHv2</th>\n      <th>p-TCP</th>\n      <th>r-NON</th>\n      <th>r-PRIVATE</th>\n      <th>r-PUBLIC</th>\n      <th>x-NON</th>\n      <th>x-OUT</th>\n    </tr>\n  </thead>\n  <tbody>\n    <tr>\n      <th>0</th>\n      <td>0</td>\n      <td>1</td>\n      <td>0</td>\n      <td>0</td>\n      <td>0</td>\n      <td>0</td>\n      <td>0</td>\n      <td>0</td>\n      <td>0</td>\n      <td>0</td>\n      <td>...</td>\n      <td>0</td>\n      <td>0</td>\n      <td>0</td>\n      <td>0</td>\n      <td>1</td>\n      <td>0</td>\n      <td>True</td>\n      <td>0</td>\n      <td>0</td>\n      <td>True</td>\n    </tr>\n    <tr>\n      <th>1</th>\n      <td>0</td>\n      <td>1</td>\n      <td>0</td>\n      <td>0</td>\n      <td>0</td>\n      <td>0</td>\n      <td>0</td>\n      <td>0</td>\n      <td>0</td>\n      <td>0</td>\n      <td>...</td>\n      <td>0</td>\n      <td>0</td>\n      <td>0</td>\n      <td>0</td>\n      <td>1</td>\n      <td>0</td>\n      <td>True</td>\n      <td>0</td>\n      <td>0</td>\n      <td>True</td>\n    </tr>\n    <tr>\n      <th>2</th>\n      <td>0</td>\n      <td>1</td>\n      <td>0</td>\n      <td>0</td>\n      <td>0</td>\n      <td>0</td>\n      <td>0</td>\n      <td>0</td>\n      <td>0</td>\n      <td>0</td>\n      <td>...</td>\n      <td>0</td>\n      <td>0</td>\n      <td>1</td>\n      <td>0</td>\n      <td>0</td>\n      <td>0</td>\n      <td>True</td>\n      <td>0</td>\n      <td>0</td>\n      <td>True</td>\n    </tr>\n    <tr>\n      <th>3</th>\n      <td>0</td>\n      <td>1</td>\n      <td>0</td>\n      <td>0</td>\n      <td>0</td>\n      <td>0</td>\n      <td>0</td>\n      <td>0</td>\n      <td>0</td>\n      <td>0</td>\n      <td>...</td>\n      <td>0</td>\n      <td>0</td>\n      <td>0</td>\n      <td>0</td>\n      <td>1</td>\n      <td>0</td>\n      <td>True</td>\n      <td>0</td>\n      <td>0</td>\n      <td>True</td>\n    </tr>\n    <tr>\n      <th>4</th>\n      <td>0</td>\n      <td>1</td>\n      <td>0</td>\n      <td>0</td>\n      <td>0</td>\n      <td>0</td>\n      <td>0</td>\n      <td>0</td>\n      <td>0</td>\n      <td>0</td>\n      <td>...</td>\n      <td>0</td>\n      <td>0</td>\n      <td>0</td>\n      <td>0</td>\n      <td>1</td>\n      <td>0</td>\n      <td>True</td>\n      <td>0</td>\n      <td>0</td>\n      <td>True</td>\n    </tr>\n    <tr>\n      <th>...</th>\n      <td>...</td>\n      <td>...</td>\n      <td>...</td>\n      <td>...</td>\n      <td>...</td>\n      <td>...</td>\n      <td>...</td>\n      <td>...</td>\n      <td>...</td>\n      <td>...</td>\n      <td>...</td>\n      <td>...</td>\n      <td>...</td>\n      <td>...</td>\n      <td>...</td>\n      <td>...</td>\n      <td>...</td>\n      <td>...</td>\n      <td>...</td>\n      <td>...</td>\n      <td>...</td>\n    </tr>\n    <tr>\n      <th>197904</th>\n      <td>1</td>\n      <td>0</td>\n      <td>0</td>\n      <td>0</td>\n      <td>0</td>\n      <td>0</td>\n      <td>0</td>\n      <td>0</td>\n      <td>0</td>\n      <td>0</td>\n      <td>...</td>\n      <td>0</td>\n      <td>0</td>\n      <td>1</td>\n      <td>0</td>\n      <td>0</td>\n      <td>0</td>\n      <td>True</td>\n      <td>0</td>\n      <td>0</td>\n      <td>True</td>\n    </tr>\n    <tr>\n      <th>197905</th>\n      <td>1</td>\n      <td>0</td>\n      <td>0</td>\n      <td>0</td>\n      <td>0</td>\n      <td>0</td>\n      <td>0</td>\n      <td>0</td>\n      <td>0</td>\n      <td>0</td>\n      <td>...</td>\n      <td>0</td>\n      <td>0</td>\n      <td>1</td>\n      <td>0</td>\n      <td>0</td>\n      <td>0</td>\n      <td>True</td>\n      <td>0</td>\n      <td>0</td>\n      <td>True</td>\n    </tr>\n    <tr>\n      <th>197906</th>\n      <td>1</td>\n      <td>0</td>\n      <td>0</td>\n      <td>0</td>\n      <td>0</td>\n      <td>0</td>\n      <td>0</td>\n      <td>0</td>\n      <td>0</td>\n      <td>0</td>\n      <td>...</td>\n      <td>0</td>\n      <td>0</td>\n      <td>1</td>\n      <td>0</td>\n      <td>0</td>\n      <td>0</td>\n      <td>True</td>\n      <td>0</td>\n      <td>0</td>\n      <td>True</td>\n    </tr>\n    <tr>\n      <th>197907</th>\n      <td>1</td>\n      <td>0</td>\n      <td>0</td>\n      <td>0</td>\n      <td>0</td>\n      <td>0</td>\n      <td>0</td>\n      <td>0</td>\n      <td>0</td>\n      <td>0</td>\n      <td>...</td>\n      <td>0</td>\n      <td>0</td>\n      <td>1</td>\n      <td>0</td>\n      <td>0</td>\n      <td>0</td>\n      <td>True</td>\n      <td>0</td>\n      <td>0</td>\n      <td>True</td>\n    </tr>\n    <tr>\n      <th>197908</th>\n      <td>1</td>\n      <td>0</td>\n      <td>0</td>\n      <td>0</td>\n      <td>0</td>\n      <td>0</td>\n      <td>0</td>\n      <td>0</td>\n      <td>0</td>\n      <td>0</td>\n      <td>...</td>\n      <td>0</td>\n      <td>0</td>\n      <td>0</td>\n      <td>0</td>\n      <td>1</td>\n      <td>0</td>\n      <td>True</td>\n      <td>0</td>\n      <td>0</td>\n      <td>True</td>\n    </tr>\n  </tbody>\n</table>\n<p>197909 rows × 14135 columns</p>\n</div>"
     },
     "execution_count": 4,
     "metadata": {},
     "output_type": "execute_result"
    }
   ],
   "source": [
    "te = TransactionEncoder()\n",
    "te_ary = te.fit(dataSet.to_numpy()).transform(dataSet.to_numpy(), sparse=True)\n",
    "transformed_df = pd.DataFrame.sparse.from_spmatrix(te_ary, columns=te.columns_)\n",
    "transformed_df"
   ]
  },
  {
   "cell_type": "code",
   "execution_count": 6,
   "metadata": {
    "pycharm": {
     "name": "#%%\n"
    }
   },
   "outputs": [
    {
     "data": {
      "text/plain": "     support                                itemsets\n0   0.997519                                  (c-A1)\n1   0.993608                                 (l-0.0)\n2   0.996210                                 (p-TCP)\n3   0.999207                             (r-PRIVATE)\n4   0.999793                                 (x-OUT)\n5   0.993548                           (c-A1, l-0.0)\n6   0.995271                           (c-A1, p-TCP)\n7   0.996938                       (c-A1, r-PRIVATE)\n8   0.997373                           (c-A1, x-OUT)\n9   0.993401                          (p-TCP, l-0.0)\n10  0.993401                      (l-0.0, r-PRIVATE)\n11  0.993401                          (l-0.0, x-OUT)\n12  0.996210                      (p-TCP, r-PRIVATE)\n13  0.996210                          (p-TCP, x-OUT)\n14  0.999207                      (x-OUT, r-PRIVATE)\n15  0.993401                    (c-A1, p-TCP, l-0.0)\n16  0.993401                (c-A1, l-0.0, r-PRIVATE)\n17  0.993401                    (c-A1, l-0.0, x-OUT)\n18  0.995271                (c-A1, p-TCP, r-PRIVATE)\n19  0.995271                    (c-A1, p-TCP, x-OUT)\n20  0.996938                (c-A1, x-OUT, r-PRIVATE)\n21  0.993401               (p-TCP, l-0.0, r-PRIVATE)\n22  0.993401                   (p-TCP, l-0.0, x-OUT)\n23  0.993401               (l-0.0, x-OUT, r-PRIVATE)\n24  0.996210               (p-TCP, x-OUT, r-PRIVATE)\n25  0.993401         (c-A1, p-TCP, r-PRIVATE, l-0.0)\n26  0.993401             (c-A1, p-TCP, x-OUT, l-0.0)\n27  0.993401         (c-A1, l-0.0, x-OUT, r-PRIVATE)\n28  0.995271         (c-A1, p-TCP, x-OUT, r-PRIVATE)\n29  0.993401        (p-TCP, l-0.0, x-OUT, r-PRIVATE)\n30  0.993401  (c-A1, l-0.0, r-PRIVATE, p-TCP, x-OUT)",
      "text/html": "<div>\n<style scoped>\n    .dataframe tbody tr th:only-of-type {\n        vertical-align: middle;\n    }\n\n    .dataframe tbody tr th {\n        vertical-align: top;\n    }\n\n    .dataframe thead th {\n        text-align: right;\n    }\n</style>\n<table border=\"1\" class=\"dataframe\">\n  <thead>\n    <tr style=\"text-align: right;\">\n      <th></th>\n      <th>support</th>\n      <th>itemsets</th>\n    </tr>\n  </thead>\n  <tbody>\n    <tr>\n      <th>0</th>\n      <td>0.997519</td>\n      <td>(c-A1)</td>\n    </tr>\n    <tr>\n      <th>1</th>\n      <td>0.993608</td>\n      <td>(l-0.0)</td>\n    </tr>\n    <tr>\n      <th>2</th>\n      <td>0.996210</td>\n      <td>(p-TCP)</td>\n    </tr>\n    <tr>\n      <th>3</th>\n      <td>0.999207</td>\n      <td>(r-PRIVATE)</td>\n    </tr>\n    <tr>\n      <th>4</th>\n      <td>0.999793</td>\n      <td>(x-OUT)</td>\n    </tr>\n    <tr>\n      <th>5</th>\n      <td>0.993548</td>\n      <td>(c-A1, l-0.0)</td>\n    </tr>\n    <tr>\n      <th>6</th>\n      <td>0.995271</td>\n      <td>(c-A1, p-TCP)</td>\n    </tr>\n    <tr>\n      <th>7</th>\n      <td>0.996938</td>\n      <td>(c-A1, r-PRIVATE)</td>\n    </tr>\n    <tr>\n      <th>8</th>\n      <td>0.997373</td>\n      <td>(c-A1, x-OUT)</td>\n    </tr>\n    <tr>\n      <th>9</th>\n      <td>0.993401</td>\n      <td>(p-TCP, l-0.0)</td>\n    </tr>\n    <tr>\n      <th>10</th>\n      <td>0.993401</td>\n      <td>(l-0.0, r-PRIVATE)</td>\n    </tr>\n    <tr>\n      <th>11</th>\n      <td>0.993401</td>\n      <td>(l-0.0, x-OUT)</td>\n    </tr>\n    <tr>\n      <th>12</th>\n      <td>0.996210</td>\n      <td>(p-TCP, r-PRIVATE)</td>\n    </tr>\n    <tr>\n      <th>13</th>\n      <td>0.996210</td>\n      <td>(p-TCP, x-OUT)</td>\n    </tr>\n    <tr>\n      <th>14</th>\n      <td>0.999207</td>\n      <td>(x-OUT, r-PRIVATE)</td>\n    </tr>\n    <tr>\n      <th>15</th>\n      <td>0.993401</td>\n      <td>(c-A1, p-TCP, l-0.0)</td>\n    </tr>\n    <tr>\n      <th>16</th>\n      <td>0.993401</td>\n      <td>(c-A1, l-0.0, r-PRIVATE)</td>\n    </tr>\n    <tr>\n      <th>17</th>\n      <td>0.993401</td>\n      <td>(c-A1, l-0.0, x-OUT)</td>\n    </tr>\n    <tr>\n      <th>18</th>\n      <td>0.995271</td>\n      <td>(c-A1, p-TCP, r-PRIVATE)</td>\n    </tr>\n    <tr>\n      <th>19</th>\n      <td>0.995271</td>\n      <td>(c-A1, p-TCP, x-OUT)</td>\n    </tr>\n    <tr>\n      <th>20</th>\n      <td>0.996938</td>\n      <td>(c-A1, x-OUT, r-PRIVATE)</td>\n    </tr>\n    <tr>\n      <th>21</th>\n      <td>0.993401</td>\n      <td>(p-TCP, l-0.0, r-PRIVATE)</td>\n    </tr>\n    <tr>\n      <th>22</th>\n      <td>0.993401</td>\n      <td>(p-TCP, l-0.0, x-OUT)</td>\n    </tr>\n    <tr>\n      <th>23</th>\n      <td>0.993401</td>\n      <td>(l-0.0, x-OUT, r-PRIVATE)</td>\n    </tr>\n    <tr>\n      <th>24</th>\n      <td>0.996210</td>\n      <td>(p-TCP, x-OUT, r-PRIVATE)</td>\n    </tr>\n    <tr>\n      <th>25</th>\n      <td>0.993401</td>\n      <td>(c-A1, p-TCP, r-PRIVATE, l-0.0)</td>\n    </tr>\n    <tr>\n      <th>26</th>\n      <td>0.993401</td>\n      <td>(c-A1, p-TCP, x-OUT, l-0.0)</td>\n    </tr>\n    <tr>\n      <th>27</th>\n      <td>0.993401</td>\n      <td>(c-A1, l-0.0, x-OUT, r-PRIVATE)</td>\n    </tr>\n    <tr>\n      <th>28</th>\n      <td>0.995271</td>\n      <td>(c-A1, p-TCP, x-OUT, r-PRIVATE)</td>\n    </tr>\n    <tr>\n      <th>29</th>\n      <td>0.993401</td>\n      <td>(p-TCP, l-0.0, x-OUT, r-PRIVATE)</td>\n    </tr>\n    <tr>\n      <th>30</th>\n      <td>0.993401</td>\n      <td>(c-A1, l-0.0, r-PRIVATE, p-TCP, x-OUT)</td>\n    </tr>\n  </tbody>\n</table>\n</div>"
     },
     "execution_count": 6,
     "metadata": {},
     "output_type": "execute_result"
    }
   ],
   "source": [
    "freqItemsets = apriori(transformed_df, min_support=0.1, use_colnames=True)\n",
    "freqItemsets.to_csv(define_.FREQ_ITEMS_FILE_PATH)\n",
    "freqItemsets"
   ]
  },
  {
   "cell_type": "code",
   "execution_count": 9,
   "metadata": {
    "pycharm": {
     "name": "#%%\n"
    }
   },
   "outputs": [
    {
     "ename": "TypeError",
     "evalue": "'int' object is not iterable",
     "output_type": "error",
     "traceback": [
      "\u001B[1;31m---------------------------------------------------------------------------\u001B[0m",
      "\u001B[1;31mTypeError\u001B[0m                                 Traceback (most recent call last)",
      "\u001B[1;32m<ipython-input-9-ea11d168fbe5>\u001B[0m in \u001B[0;36m<module>\u001B[1;34m\u001B[0m\n\u001B[0;32m      1\u001B[0m \u001B[0mfreq\u001B[0m \u001B[1;33m=\u001B[0m \u001B[0mpd\u001B[0m\u001B[1;33m.\u001B[0m\u001B[0mread_csv\u001B[0m\u001B[1;33m(\u001B[0m\u001B[0mdefine_\u001B[0m\u001B[1;33m.\u001B[0m\u001B[0mFREQ_ITEMS_FILE_PATH\u001B[0m\u001B[1;33m)\u001B[0m\u001B[1;33m\u001B[0m\u001B[1;33m\u001B[0m\u001B[0m\n\u001B[1;32m----> 2\u001B[1;33m \u001B[0mdf\u001B[0m \u001B[1;33m=\u001B[0m \u001B[0mapriori_functions\u001B[0m\u001B[1;33m.\u001B[0m\u001B[0mfreqItemToDF\u001B[0m\u001B[1;33m(\u001B[0m\u001B[0mfreq\u001B[0m\u001B[1;33m.\u001B[0m\u001B[0mto_numpy\u001B[0m\u001B[1;33m(\u001B[0m\u001B[1;33m)\u001B[0m\u001B[1;33m)\u001B[0m\u001B[1;33m\u001B[0m\u001B[1;33m\u001B[0m\u001B[0m\n\u001B[0m\u001B[0;32m      3\u001B[0m \u001B[0mdf\u001B[0m\u001B[1;33m.\u001B[0m\u001B[0mto_csv\u001B[0m\u001B[1;33m(\u001B[0m\u001B[0mdefine_\u001B[0m\u001B[1;33m.\u001B[0m\u001B[0mFREQ_ITEM_FORMATTED_FILE_PATH\u001B[0m\u001B[1;33m)\u001B[0m\u001B[1;33m\u001B[0m\u001B[1;33m\u001B[0m\u001B[0m\n\u001B[0;32m      4\u001B[0m \u001B[1;33m\u001B[0m\u001B[0m\n",
      "\u001B[1;32mF:\\Academic\\sem7\\FYP\\codes\\Apriori\\apriori_functions.py\u001B[0m in \u001B[0;36mfreqItemToDF\u001B[1;34m(freq)\u001B[0m\n\u001B[0;32m    382\u001B[0m         \u001B[1;32mfor\u001B[0m \u001B[0mj\u001B[0m \u001B[1;32min\u001B[0m \u001B[0mrange\u001B[0m\u001B[1;33m(\u001B[0m\u001B[0mlen_\u001B[0m\u001B[1;33m)\u001B[0m\u001B[1;33m:\u001B[0m\u001B[1;33m\u001B[0m\u001B[1;33m\u001B[0m\u001B[0m\n\u001B[0;32m    383\u001B[0m             \u001B[0marr\u001B[0m \u001B[1;33m=\u001B[0m \u001B[0mnp\u001B[0m\u001B[1;33m.\u001B[0m\u001B[0marray\u001B[0m\u001B[1;33m(\u001B[0m\u001B[1;33m[\u001B[0m\u001B[1;34m'*     '\u001B[0m\u001B[1;33m,\u001B[0m \u001B[1;34m'*     '\u001B[0m\u001B[1;33m,\u001B[0m \u001B[1;34m'*     '\u001B[0m\u001B[1;33m,\u001B[0m \u001B[1;34m'*         '\u001B[0m\u001B[1;33m,\u001B[0m \u001B[1;34m'*       '\u001B[0m\u001B[1;33m,\u001B[0m \u001B[1;34m'*      '\u001B[0m\u001B[1;33m]\u001B[0m\u001B[1;33m)\u001B[0m\u001B[1;33m\u001B[0m\u001B[1;33m\u001B[0m\u001B[0m\n\u001B[1;32m--> 384\u001B[1;33m             \u001B[0mitem\u001B[0m \u001B[1;33m=\u001B[0m \u001B[0mlist\u001B[0m\u001B[1;33m(\u001B[0m\u001B[0mfreq\u001B[0m\u001B[1;33m[\u001B[0m\u001B[0mi\u001B[0m\u001B[1;33m]\u001B[0m\u001B[1;33m[\u001B[0m\u001B[0mj\u001B[0m\u001B[1;33m]\u001B[0m\u001B[1;33m)\u001B[0m\u001B[1;33m\u001B[0m\u001B[1;33m\u001B[0m\u001B[0m\n\u001B[0m\u001B[0;32m    385\u001B[0m             \u001B[1;32mfor\u001B[0m \u001B[0mk\u001B[0m \u001B[1;32min\u001B[0m \u001B[0mrange\u001B[0m\u001B[1;33m(\u001B[0m\u001B[0mlen\u001B[0m\u001B[1;33m(\u001B[0m\u001B[0mitem\u001B[0m\u001B[1;33m)\u001B[0m\u001B[1;33m)\u001B[0m\u001B[1;33m:\u001B[0m\u001B[1;33m\u001B[0m\u001B[1;33m\u001B[0m\u001B[0m\n\u001B[0;32m    386\u001B[0m                 \u001B[0mkItem\u001B[0m \u001B[1;33m=\u001B[0m \u001B[0mitem\u001B[0m\u001B[1;33m[\u001B[0m\u001B[0mk\u001B[0m\u001B[1;33m]\u001B[0m\u001B[1;33m\u001B[0m\u001B[1;33m\u001B[0m\u001B[0m\n",
      "\u001B[1;31mTypeError\u001B[0m: 'int' object is not iterable"
     ]
    }
   ],
   "source": [
    "freq = pd.read_csv(define_.FREQ_ITEMS_FILE_PATH)\n",
    "df = apriori_functions.freqItemToDF(freq.to_numpy())\n",
    "df.to_csv(define_.FREQ_ITEM_FORMATTED_FILE_PATH)"
   ]
  },
  {
   "cell_type": "code",
   "execution_count": 7,
   "metadata": {
    "pycharm": {
     "name": "#%%\n"
    }
   },
   "outputs": [
    {
     "data": {
      "text/plain": "    index                       antecedents consequents  antecedent support  \\\n0       1                           [l-0.0]      [c-A1]            0.993608   \n1       3                           [p-TCP]      [c-A1]            0.996210   \n2       5                       [r-PRIVATE]      [c-A1]            0.999207   \n3       7                           [x-OUT]      [c-A1]            0.999793   \n4      22                    [p-TCP, l-0.0]      [c-A1]            0.993401   \n5      28                [l-0.0, r-PRIVATE]      [c-A1]            0.993401   \n6      34                    [l-0.0, x-OUT]      [c-A1]            0.993401   \n7      40                [p-TCP, r-PRIVATE]      [c-A1]            0.996210   \n8      46                    [p-TCP, x-OUT]      [c-A1]            0.996210   \n9      52                [x-OUT, r-PRIVATE]      [c-A1]            0.999207   \n10     83         [p-TCP, l-0.0, r-PRIVATE]      [c-A1]            0.993401   \n11     97             [p-TCP, l-0.0, x-OUT]      [c-A1]            0.993401   \n12    111         [l-0.0, x-OUT, r-PRIVATE]      [c-A1]            0.993401   \n13    125         [p-TCP, x-OUT, r-PRIVATE]      [c-A1]            0.996210   \n14    154  [p-TCP, l-0.0, x-OUT, r-PRIVATE]      [c-A1]            0.993401   \n\n    consequent support   support  confidence      lift  leverage  conviction  \n0             0.997519  0.993548    0.999939  1.002426  0.002404   40.655134  \n1             0.997519  0.995271    0.999057  1.001541  0.001532    2.629781  \n2             0.997519  0.996938    0.997729  1.000211  0.000210    1.092674  \n3             0.997519  0.997373    0.997579  1.000060  0.000060    1.024840  \n4             0.997519  0.993401    1.000000  1.002487  0.002465         inf  \n5             0.997519  0.993401    1.000000  1.002487  0.002465         inf  \n6             0.997519  0.993401    1.000000  1.002487  0.002465         inf  \n7             0.997519  0.995271    0.999057  1.001541  0.001532    2.629781  \n8             0.997519  0.995271    0.999057  1.001541  0.001532    2.629781  \n9             0.997519  0.996938    0.997729  1.000211  0.000210    1.092674  \n10            0.997519  0.993401    1.000000  1.002487  0.002465         inf  \n11            0.997519  0.993401    1.000000  1.002487  0.002465         inf  \n12            0.997519  0.993401    1.000000  1.002487  0.002465         inf  \n13            0.997519  0.995271    0.999057  1.001541  0.001532    2.629781  \n14            0.997519  0.993401    1.000000  1.002487  0.002465         inf  ",
      "text/html": "<div>\n<style scoped>\n    .dataframe tbody tr th:only-of-type {\n        vertical-align: middle;\n    }\n\n    .dataframe tbody tr th {\n        vertical-align: top;\n    }\n\n    .dataframe thead th {\n        text-align: right;\n    }\n</style>\n<table border=\"1\" class=\"dataframe\">\n  <thead>\n    <tr style=\"text-align: right;\">\n      <th></th>\n      <th>index</th>\n      <th>antecedents</th>\n      <th>consequents</th>\n      <th>antecedent support</th>\n      <th>consequent support</th>\n      <th>support</th>\n      <th>confidence</th>\n      <th>lift</th>\n      <th>leverage</th>\n      <th>conviction</th>\n    </tr>\n  </thead>\n  <tbody>\n    <tr>\n      <th>0</th>\n      <td>1</td>\n      <td>[l-0.0]</td>\n      <td>[c-A1]</td>\n      <td>0.993608</td>\n      <td>0.997519</td>\n      <td>0.993548</td>\n      <td>0.999939</td>\n      <td>1.002426</td>\n      <td>0.002404</td>\n      <td>40.655134</td>\n    </tr>\n    <tr>\n      <th>1</th>\n      <td>3</td>\n      <td>[p-TCP]</td>\n      <td>[c-A1]</td>\n      <td>0.996210</td>\n      <td>0.997519</td>\n      <td>0.995271</td>\n      <td>0.999057</td>\n      <td>1.001541</td>\n      <td>0.001532</td>\n      <td>2.629781</td>\n    </tr>\n    <tr>\n      <th>2</th>\n      <td>5</td>\n      <td>[r-PRIVATE]</td>\n      <td>[c-A1]</td>\n      <td>0.999207</td>\n      <td>0.997519</td>\n      <td>0.996938</td>\n      <td>0.997729</td>\n      <td>1.000211</td>\n      <td>0.000210</td>\n      <td>1.092674</td>\n    </tr>\n    <tr>\n      <th>3</th>\n      <td>7</td>\n      <td>[x-OUT]</td>\n      <td>[c-A1]</td>\n      <td>0.999793</td>\n      <td>0.997519</td>\n      <td>0.997373</td>\n      <td>0.997579</td>\n      <td>1.000060</td>\n      <td>0.000060</td>\n      <td>1.024840</td>\n    </tr>\n    <tr>\n      <th>4</th>\n      <td>22</td>\n      <td>[p-TCP, l-0.0]</td>\n      <td>[c-A1]</td>\n      <td>0.993401</td>\n      <td>0.997519</td>\n      <td>0.993401</td>\n      <td>1.000000</td>\n      <td>1.002487</td>\n      <td>0.002465</td>\n      <td>inf</td>\n    </tr>\n    <tr>\n      <th>5</th>\n      <td>28</td>\n      <td>[l-0.0, r-PRIVATE]</td>\n      <td>[c-A1]</td>\n      <td>0.993401</td>\n      <td>0.997519</td>\n      <td>0.993401</td>\n      <td>1.000000</td>\n      <td>1.002487</td>\n      <td>0.002465</td>\n      <td>inf</td>\n    </tr>\n    <tr>\n      <th>6</th>\n      <td>34</td>\n      <td>[l-0.0, x-OUT]</td>\n      <td>[c-A1]</td>\n      <td>0.993401</td>\n      <td>0.997519</td>\n      <td>0.993401</td>\n      <td>1.000000</td>\n      <td>1.002487</td>\n      <td>0.002465</td>\n      <td>inf</td>\n    </tr>\n    <tr>\n      <th>7</th>\n      <td>40</td>\n      <td>[p-TCP, r-PRIVATE]</td>\n      <td>[c-A1]</td>\n      <td>0.996210</td>\n      <td>0.997519</td>\n      <td>0.995271</td>\n      <td>0.999057</td>\n      <td>1.001541</td>\n      <td>0.001532</td>\n      <td>2.629781</td>\n    </tr>\n    <tr>\n      <th>8</th>\n      <td>46</td>\n      <td>[p-TCP, x-OUT]</td>\n      <td>[c-A1]</td>\n      <td>0.996210</td>\n      <td>0.997519</td>\n      <td>0.995271</td>\n      <td>0.999057</td>\n      <td>1.001541</td>\n      <td>0.001532</td>\n      <td>2.629781</td>\n    </tr>\n    <tr>\n      <th>9</th>\n      <td>52</td>\n      <td>[x-OUT, r-PRIVATE]</td>\n      <td>[c-A1]</td>\n      <td>0.999207</td>\n      <td>0.997519</td>\n      <td>0.996938</td>\n      <td>0.997729</td>\n      <td>1.000211</td>\n      <td>0.000210</td>\n      <td>1.092674</td>\n    </tr>\n    <tr>\n      <th>10</th>\n      <td>83</td>\n      <td>[p-TCP, l-0.0, r-PRIVATE]</td>\n      <td>[c-A1]</td>\n      <td>0.993401</td>\n      <td>0.997519</td>\n      <td>0.993401</td>\n      <td>1.000000</td>\n      <td>1.002487</td>\n      <td>0.002465</td>\n      <td>inf</td>\n    </tr>\n    <tr>\n      <th>11</th>\n      <td>97</td>\n      <td>[p-TCP, l-0.0, x-OUT]</td>\n      <td>[c-A1]</td>\n      <td>0.993401</td>\n      <td>0.997519</td>\n      <td>0.993401</td>\n      <td>1.000000</td>\n      <td>1.002487</td>\n      <td>0.002465</td>\n      <td>inf</td>\n    </tr>\n    <tr>\n      <th>12</th>\n      <td>111</td>\n      <td>[l-0.0, x-OUT, r-PRIVATE]</td>\n      <td>[c-A1]</td>\n      <td>0.993401</td>\n      <td>0.997519</td>\n      <td>0.993401</td>\n      <td>1.000000</td>\n      <td>1.002487</td>\n      <td>0.002465</td>\n      <td>inf</td>\n    </tr>\n    <tr>\n      <th>13</th>\n      <td>125</td>\n      <td>[p-TCP, x-OUT, r-PRIVATE]</td>\n      <td>[c-A1]</td>\n      <td>0.996210</td>\n      <td>0.997519</td>\n      <td>0.995271</td>\n      <td>0.999057</td>\n      <td>1.001541</td>\n      <td>0.001532</td>\n      <td>2.629781</td>\n    </tr>\n    <tr>\n      <th>14</th>\n      <td>154</td>\n      <td>[p-TCP, l-0.0, x-OUT, r-PRIVATE]</td>\n      <td>[c-A1]</td>\n      <td>0.993401</td>\n      <td>0.997519</td>\n      <td>0.993401</td>\n      <td>1.000000</td>\n      <td>1.002487</td>\n      <td>0.002465</td>\n      <td>inf</td>\n    </tr>\n  </tbody>\n</table>\n</div>"
     },
     "execution_count": 7,
     "metadata": {},
     "output_type": "execute_result"
    }
   ],
   "source": [
    "rules = association_rules(freqItemsets, metric=\"confidence\", min_threshold=0.1)\n",
    "rules = rules[(rules['consequents'] == {'c-A1'}) |\n",
    "                (rules['consequents'] == {'c-A2'}) |\n",
    "                (rules['consequents'] == {'c-A3'}) &\n",
    "                (('c-A1' not in  (rules.antecedents.to_list())) |\n",
    "                ('c-A2' not in  (rules.antecedents.to_list())) |\n",
    "                ('c-A3' not in  (rules.antecedents.to_list())))\n",
    "]\n",
    "\n",
    "rules['antecedents'] = rules.apply(lambda row: apriori_functions.convertToStringList(str(list(row['antecedents']))), axis=1)\n",
    "rules['consequents'] = rules.apply(lambda row: apriori_functions.convertToStringList(str(list(row['consequents']))), axis=1)\n",
    "rules.reset_index(inplace=True)\n",
    "rules.to_csv(define_.FINAL_RULES_FILE_PATH, index=False)\n",
    "rules"
   ]
  },
  {
   "cell_type": "code",
   "execution_count": 12,
   "metadata": {
    "pycharm": {
     "name": "#%%\n"
    }
   },
   "outputs": [],
   "source": [
    "rules = pd.read_csv(define_.FINAL_RULES_FILE_PATH)"
   ]
  },
  {
   "cell_type": "code",
   "execution_count": 8,
   "metadata": {
    "pycharm": {
     "name": "#%%\n"
    }
   },
   "outputs": [],
   "source": [
    "# r, c = final_Rules.shape\n",
    "featureList = [define_.P_TCP, define_.P_HTTP,define_.P_SSH,define_.P_DNS,define_.P_ARP, define_.P_SSHV2,define_.L_0, define_.L_1, define_.L_2, define_.D_80, define_.D_42972, define_.D_34230, define_.D_50822, define_.D_53, define_.D_22, define_.D_56040, define_.D_161, define_.D_443,\n",
    "                                      define_.R_PUBLIC, define_.R_PRIVATE, define_.R_NON, define_.X_IN, define_.X_OUT, define_.X_NON]\n",
    "\n",
    "oneHotEncodedDF = pd.DataFrame(apriori_functions.oneHot(rules,featureList), columns=featureList)\n",
    "oneHotEncodedDF.to_csv(define_.TRAIN_ENCODED)"
   ]
  },
  {
   "cell_type": "code",
   "execution_count": 30,
   "metadata": {
    "pycharm": {
     "name": "#%%\n"
    }
   },
   "outputs": [
    {
     "data": {
      "text/html": [
       "<div>\n",
       "<style scoped>\n",
       "    .dataframe tbody tr th:only-of-type {\n",
       "        vertical-align: middle;\n",
       "    }\n",
       "\n",
       "    .dataframe tbody tr th {\n",
       "        vertical-align: top;\n",
       "    }\n",
       "\n",
       "    .dataframe thead th {\n",
       "        text-align: right;\n",
       "    }\n",
       "</style>\n",
       "<table border=\"1\" class=\"dataframe\">\n",
       "  <thead>\n",
       "    <tr style=\"text-align: right;\">\n",
       "      <th></th>\n",
       "      <th>p-TCP</th>\n",
       "      <th>p-HTTP</th>\n",
       "      <th>p-SSH</th>\n",
       "      <th>p-DNS</th>\n",
       "      <th>p-ARP</th>\n",
       "      <th>p-SSHv2</th>\n",
       "      <th>l-0.0</th>\n",
       "      <th>l-1.0</th>\n",
       "      <th>l-2.0</th>\n",
       "      <th>d-80</th>\n",
       "      <th>...</th>\n",
       "      <th>d-56040</th>\n",
       "      <th>d-161</th>\n",
       "      <th>d-443</th>\n",
       "      <th>r-PUBLIC</th>\n",
       "      <th>r-PRIVATE</th>\n",
       "      <th>r-NON</th>\n",
       "      <th>x-IN</th>\n",
       "      <th>x-OUT</th>\n",
       "      <th>x-NON</th>\n",
       "      <th>Y</th>\n",
       "    </tr>\n",
       "  </thead>\n",
       "  <tbody>\n",
       "    <tr>\n",
       "      <th>0</th>\n",
       "      <td>0.0</td>\n",
       "      <td>0.0</td>\n",
       "      <td>0.0</td>\n",
       "      <td>0.0</td>\n",
       "      <td>0.0</td>\n",
       "      <td>0.0</td>\n",
       "      <td>0.0</td>\n",
       "      <td>0.0</td>\n",
       "      <td>0.0</td>\n",
       "      <td>0.0</td>\n",
       "      <td>...</td>\n",
       "      <td>0.0</td>\n",
       "      <td>0.0</td>\n",
       "      <td>0.0</td>\n",
       "      <td>0.0</td>\n",
       "      <td>0.0</td>\n",
       "      <td>0.0</td>\n",
       "      <td>0.0</td>\n",
       "      <td>0.0</td>\n",
       "      <td>0.0</td>\n",
       "      <td>[c-A1]</td>\n",
       "    </tr>\n",
       "    <tr>\n",
       "      <th>1</th>\n",
       "      <td>1.0</td>\n",
       "      <td>0.0</td>\n",
       "      <td>0.0</td>\n",
       "      <td>0.0</td>\n",
       "      <td>0.0</td>\n",
       "      <td>0.0</td>\n",
       "      <td>0.0</td>\n",
       "      <td>0.0</td>\n",
       "      <td>0.0</td>\n",
       "      <td>0.0</td>\n",
       "      <td>...</td>\n",
       "      <td>0.0</td>\n",
       "      <td>0.0</td>\n",
       "      <td>0.0</td>\n",
       "      <td>0.0</td>\n",
       "      <td>0.0</td>\n",
       "      <td>0.0</td>\n",
       "      <td>0.0</td>\n",
       "      <td>0.0</td>\n",
       "      <td>0.0</td>\n",
       "      <td>[c-A1]</td>\n",
       "    </tr>\n",
       "    <tr>\n",
       "      <th>2</th>\n",
       "      <td>0.0</td>\n",
       "      <td>0.0</td>\n",
       "      <td>0.0</td>\n",
       "      <td>0.0</td>\n",
       "      <td>0.0</td>\n",
       "      <td>0.0</td>\n",
       "      <td>0.0</td>\n",
       "      <td>0.0</td>\n",
       "      <td>0.0</td>\n",
       "      <td>0.0</td>\n",
       "      <td>...</td>\n",
       "      <td>0.0</td>\n",
       "      <td>0.0</td>\n",
       "      <td>0.0</td>\n",
       "      <td>0.0</td>\n",
       "      <td>1.0</td>\n",
       "      <td>0.0</td>\n",
       "      <td>0.0</td>\n",
       "      <td>0.0</td>\n",
       "      <td>0.0</td>\n",
       "      <td>[c-A1]</td>\n",
       "    </tr>\n",
       "    <tr>\n",
       "      <th>3</th>\n",
       "      <td>0.0</td>\n",
       "      <td>0.0</td>\n",
       "      <td>0.0</td>\n",
       "      <td>0.0</td>\n",
       "      <td>0.0</td>\n",
       "      <td>0.0</td>\n",
       "      <td>0.0</td>\n",
       "      <td>0.0</td>\n",
       "      <td>0.0</td>\n",
       "      <td>0.0</td>\n",
       "      <td>...</td>\n",
       "      <td>0.0</td>\n",
       "      <td>0.0</td>\n",
       "      <td>0.0</td>\n",
       "      <td>0.0</td>\n",
       "      <td>0.0</td>\n",
       "      <td>0.0</td>\n",
       "      <td>0.0</td>\n",
       "      <td>1.0</td>\n",
       "      <td>0.0</td>\n",
       "      <td>[c-A1]</td>\n",
       "    </tr>\n",
       "    <tr>\n",
       "      <th>4</th>\n",
       "      <td>0.0</td>\n",
       "      <td>0.0</td>\n",
       "      <td>0.0</td>\n",
       "      <td>0.0</td>\n",
       "      <td>0.0</td>\n",
       "      <td>0.0</td>\n",
       "      <td>0.0</td>\n",
       "      <td>0.0</td>\n",
       "      <td>0.0</td>\n",
       "      <td>0.0</td>\n",
       "      <td>...</td>\n",
       "      <td>0.0</td>\n",
       "      <td>0.0</td>\n",
       "      <td>0.0</td>\n",
       "      <td>0.0</td>\n",
       "      <td>0.0</td>\n",
       "      <td>0.0</td>\n",
       "      <td>0.0</td>\n",
       "      <td>0.0</td>\n",
       "      <td>0.0</td>\n",
       "      <td>[c-A2]</td>\n",
       "    </tr>\n",
       "    <tr>\n",
       "      <th>...</th>\n",
       "      <td>...</td>\n",
       "      <td>...</td>\n",
       "      <td>...</td>\n",
       "      <td>...</td>\n",
       "      <td>...</td>\n",
       "      <td>...</td>\n",
       "      <td>...</td>\n",
       "      <td>...</td>\n",
       "      <td>...</td>\n",
       "      <td>...</td>\n",
       "      <td>...</td>\n",
       "      <td>...</td>\n",
       "      <td>...</td>\n",
       "      <td>...</td>\n",
       "      <td>...</td>\n",
       "      <td>...</td>\n",
       "      <td>...</td>\n",
       "      <td>...</td>\n",
       "      <td>...</td>\n",
       "      <td>...</td>\n",
       "      <td>...</td>\n",
       "    </tr>\n",
       "    <tr>\n",
       "      <th>72</th>\n",
       "      <td>0.0</td>\n",
       "      <td>0.0</td>\n",
       "      <td>0.0</td>\n",
       "      <td>0.0</td>\n",
       "      <td>0.0</td>\n",
       "      <td>0.0</td>\n",
       "      <td>0.0</td>\n",
       "      <td>0.0</td>\n",
       "      <td>0.0</td>\n",
       "      <td>0.0</td>\n",
       "      <td>...</td>\n",
       "      <td>0.0</td>\n",
       "      <td>0.0</td>\n",
       "      <td>0.0</td>\n",
       "      <td>0.0</td>\n",
       "      <td>1.0</td>\n",
       "      <td>0.0</td>\n",
       "      <td>0.0</td>\n",
       "      <td>1.0</td>\n",
       "      <td>0.0</td>\n",
       "      <td>[c-A3]</td>\n",
       "    </tr>\n",
       "    <tr>\n",
       "      <th>73</th>\n",
       "      <td>1.0</td>\n",
       "      <td>0.0</td>\n",
       "      <td>0.0</td>\n",
       "      <td>0.0</td>\n",
       "      <td>0.0</td>\n",
       "      <td>0.0</td>\n",
       "      <td>0.0</td>\n",
       "      <td>0.0</td>\n",
       "      <td>0.0</td>\n",
       "      <td>0.0</td>\n",
       "      <td>...</td>\n",
       "      <td>0.0</td>\n",
       "      <td>0.0</td>\n",
       "      <td>0.0</td>\n",
       "      <td>0.0</td>\n",
       "      <td>1.0</td>\n",
       "      <td>0.0</td>\n",
       "      <td>0.0</td>\n",
       "      <td>1.0</td>\n",
       "      <td>0.0</td>\n",
       "      <td>[c-A3]</td>\n",
       "    </tr>\n",
       "    <tr>\n",
       "      <th>74</th>\n",
       "      <td>1.0</td>\n",
       "      <td>0.0</td>\n",
       "      <td>0.0</td>\n",
       "      <td>0.0</td>\n",
       "      <td>0.0</td>\n",
       "      <td>0.0</td>\n",
       "      <td>0.0</td>\n",
       "      <td>0.0</td>\n",
       "      <td>0.0</td>\n",
       "      <td>0.0</td>\n",
       "      <td>...</td>\n",
       "      <td>0.0</td>\n",
       "      <td>0.0</td>\n",
       "      <td>0.0</td>\n",
       "      <td>0.0</td>\n",
       "      <td>1.0</td>\n",
       "      <td>0.0</td>\n",
       "      <td>0.0</td>\n",
       "      <td>1.0</td>\n",
       "      <td>0.0</td>\n",
       "      <td>[c-A3]</td>\n",
       "    </tr>\n",
       "    <tr>\n",
       "      <th>75</th>\n",
       "      <td>1.0</td>\n",
       "      <td>0.0</td>\n",
       "      <td>0.0</td>\n",
       "      <td>0.0</td>\n",
       "      <td>0.0</td>\n",
       "      <td>0.0</td>\n",
       "      <td>0.0</td>\n",
       "      <td>0.0</td>\n",
       "      <td>0.0</td>\n",
       "      <td>0.0</td>\n",
       "      <td>...</td>\n",
       "      <td>0.0</td>\n",
       "      <td>0.0</td>\n",
       "      <td>0.0</td>\n",
       "      <td>0.0</td>\n",
       "      <td>1.0</td>\n",
       "      <td>0.0</td>\n",
       "      <td>0.0</td>\n",
       "      <td>1.0</td>\n",
       "      <td>0.0</td>\n",
       "      <td>[c-A2]</td>\n",
       "    </tr>\n",
       "    <tr>\n",
       "      <th>76</th>\n",
       "      <td>1.0</td>\n",
       "      <td>0.0</td>\n",
       "      <td>0.0</td>\n",
       "      <td>0.0</td>\n",
       "      <td>0.0</td>\n",
       "      <td>0.0</td>\n",
       "      <td>0.0</td>\n",
       "      <td>0.0</td>\n",
       "      <td>0.0</td>\n",
       "      <td>0.0</td>\n",
       "      <td>...</td>\n",
       "      <td>0.0</td>\n",
       "      <td>0.0</td>\n",
       "      <td>0.0</td>\n",
       "      <td>0.0</td>\n",
       "      <td>1.0</td>\n",
       "      <td>0.0</td>\n",
       "      <td>0.0</td>\n",
       "      <td>1.0</td>\n",
       "      <td>0.0</td>\n",
       "      <td>[c-A3]</td>\n",
       "    </tr>\n",
       "  </tbody>\n",
       "</table>\n",
       "<p>77 rows × 25 columns</p>\n",
       "</div>"
      ],
      "text/plain": [
       "    p-TCP  p-HTTP  p-SSH  p-DNS  p-ARP  p-SSHv2  l-0.0  l-1.0  l-2.0  d-80  \\\n",
       "0     0.0     0.0    0.0    0.0    0.0      0.0    0.0    0.0    0.0   0.0   \n",
       "1     1.0     0.0    0.0    0.0    0.0      0.0    0.0    0.0    0.0   0.0   \n",
       "2     0.0     0.0    0.0    0.0    0.0      0.0    0.0    0.0    0.0   0.0   \n",
       "3     0.0     0.0    0.0    0.0    0.0      0.0    0.0    0.0    0.0   0.0   \n",
       "4     0.0     0.0    0.0    0.0    0.0      0.0    0.0    0.0    0.0   0.0   \n",
       "..    ...     ...    ...    ...    ...      ...    ...    ...    ...   ...   \n",
       "72    0.0     0.0    0.0    0.0    0.0      0.0    0.0    0.0    0.0   0.0   \n",
       "73    1.0     0.0    0.0    0.0    0.0      0.0    0.0    0.0    0.0   0.0   \n",
       "74    1.0     0.0    0.0    0.0    0.0      0.0    0.0    0.0    0.0   0.0   \n",
       "75    1.0     0.0    0.0    0.0    0.0      0.0    0.0    0.0    0.0   0.0   \n",
       "76    1.0     0.0    0.0    0.0    0.0      0.0    0.0    0.0    0.0   0.0   \n",
       "\n",
       "    ...  d-56040  d-161  d-443  r-PUBLIC  r-PRIVATE  r-NON  x-IN  x-OUT  \\\n",
       "0   ...      0.0    0.0    0.0       0.0        0.0    0.0   0.0    0.0   \n",
       "1   ...      0.0    0.0    0.0       0.0        0.0    0.0   0.0    0.0   \n",
       "2   ...      0.0    0.0    0.0       0.0        1.0    0.0   0.0    0.0   \n",
       "3   ...      0.0    0.0    0.0       0.0        0.0    0.0   0.0    1.0   \n",
       "4   ...      0.0    0.0    0.0       0.0        0.0    0.0   0.0    0.0   \n",
       "..  ...      ...    ...    ...       ...        ...    ...   ...    ...   \n",
       "72  ...      0.0    0.0    0.0       0.0        1.0    0.0   0.0    1.0   \n",
       "73  ...      0.0    0.0    0.0       0.0        1.0    0.0   0.0    1.0   \n",
       "74  ...      0.0    0.0    0.0       0.0        1.0    0.0   0.0    1.0   \n",
       "75  ...      0.0    0.0    0.0       0.0        1.0    0.0   0.0    1.0   \n",
       "76  ...      0.0    0.0    0.0       0.0        1.0    0.0   0.0    1.0   \n",
       "\n",
       "    x-NON       Y  \n",
       "0     0.0  [c-A1]  \n",
       "1     0.0  [c-A1]  \n",
       "2     0.0  [c-A1]  \n",
       "3     0.0  [c-A1]  \n",
       "4     0.0  [c-A2]  \n",
       "..    ...     ...  \n",
       "72    0.0  [c-A3]  \n",
       "73    0.0  [c-A3]  \n",
       "74    0.0  [c-A3]  \n",
       "75    0.0  [c-A2]  \n",
       "76    0.0  [c-A3]  \n",
       "\n",
       "[77 rows x 25 columns]"
      ]
     },
     "execution_count": 30,
     "metadata": {},
     "output_type": "execute_result"
    }
   ],
   "source": [
    "\n",
    "oneHotEncodedDF[\"Y\"] = rules['consequents']\n",
    "oneHotEncodedDF\n"
   ]
  },
  {
   "cell_type": "code",
   "execution_count": null,
   "metadata": {
    "pycharm": {
     "name": "#%%\n"
    }
   },
   "outputs": [],
   "source": [
    "# input :\n",
    "#     freqItemsets\n",
    "#     dataSet\n",
    "#     lower bound-minmum support\n",
    "#     decrement step sizes of minimum support\n",
    "#     increment step sizes of minimum support\n",
    "#     look-back time-slots\n",
    "\n",
    "# def MFI_Iter(pattern, freq, data_t, min_sup, l_min_sup):\n",
    "#\n",
    "#\n",
    "#\n",
    "# def pattern_search(freq, data, min_sup, l_min_sup, step_dec, step_inc, tw):\n",
    "\n"
   ]
  },
  {
   "cell_type": "markdown",
   "metadata": {},
   "source": [
    "for min_Supp(0 - 100 ):\n",
    "    find frequent itemsets"
   ]
  },
  {
   "cell_type": "code",
   "execution_count": 18,
   "outputs": [
    {
     "ename": "KeyError",
     "evalue": "'frozenset({\\'z\\', \\'e\\', \\'9\\', \\'f\\', \\'s\\', \\'}\\', \\'(\\', \\'_\\', \\'{\\', \\')\\', \\'r\\', \"\\'\", \\'o\\', \\'0\\', \\'n\\', \\'4\\'})You are likely getting this error because the DataFrame is missing  antecedent and/or consequent  information. You can try using the  `support_only=True` option'",
     "output_type": "error",
     "traceback": [
      "\u001B[1;31m---------------------------------------------------------------------------\u001B[0m",
      "\u001B[1;31mKeyError\u001B[0m                                  Traceback (most recent call last)",
      "\u001B[1;32mf:\\academic\\sem7\\fyp\\codes\\apriori\\venv\\lib\\site-packages\\mlxtend\\frequent_patterns\\association_rules.py\u001B[0m in \u001B[0;36massociation_rules\u001B[1;34m(df, metric, min_threshold, support_only)\u001B[0m\n\u001B[0;32m    153\u001B[0m                     \u001B[1;32mtry\u001B[0m\u001B[1;33m:\u001B[0m\u001B[1;33m\u001B[0m\u001B[1;33m\u001B[0m\u001B[0m\n\u001B[1;32m--> 154\u001B[1;33m                         \u001B[0msA\u001B[0m \u001B[1;33m=\u001B[0m \u001B[0mfrequent_items_dict\u001B[0m\u001B[1;33m[\u001B[0m\u001B[0mantecedent\u001B[0m\u001B[1;33m]\u001B[0m\u001B[1;33m\u001B[0m\u001B[1;33m\u001B[0m\u001B[0m\n\u001B[0m\u001B[0;32m    155\u001B[0m                         \u001B[0msC\u001B[0m \u001B[1;33m=\u001B[0m \u001B[0mfrequent_items_dict\u001B[0m\u001B[1;33m[\u001B[0m\u001B[0mconsequent\u001B[0m\u001B[1;33m]\u001B[0m\u001B[1;33m\u001B[0m\u001B[1;33m\u001B[0m\u001B[0m\n",
      "\u001B[1;31mKeyError\u001B[0m: frozenset({'z', 'e', '9', 'f', 's', '}', '(', '_', '{', ')', 'r', \"'\", 'o', '0', 'n', '4'})",
      "\nDuring handling of the above exception, another exception occurred:\n",
      "\u001B[1;31mKeyError\u001B[0m                                  Traceback (most recent call last)",
      "\u001B[1;32m<ipython-input-18-d9a40392c83e>\u001B[0m in \u001B[0;36m<module>\u001B[1;34m\u001B[0m\n\u001B[0;32m      1\u001B[0m \u001B[0mfreq\u001B[0m \u001B[1;33m=\u001B[0m \u001B[0mpd\u001B[0m\u001B[1;33m.\u001B[0m\u001B[0mread_csv\u001B[0m\u001B[1;33m(\u001B[0m\u001B[1;34m'output/freqItems.csv'\u001B[0m\u001B[1;33m)\u001B[0m\u001B[1;33m\u001B[0m\u001B[1;33m\u001B[0m\u001B[0m\n\u001B[0;32m      2\u001B[0m \u001B[1;33m\u001B[0m\u001B[0m\n\u001B[1;32m----> 3\u001B[1;33m \u001B[0mrules\u001B[0m \u001B[1;33m=\u001B[0m \u001B[0massociation_rules\u001B[0m\u001B[1;33m(\u001B[0m\u001B[0mfreq\u001B[0m\u001B[1;33m,\u001B[0m \u001B[0mmetric\u001B[0m\u001B[1;33m=\u001B[0m\u001B[1;34m\"confidence\"\u001B[0m\u001B[1;33m,\u001B[0m \u001B[0mmin_threshold\u001B[0m\u001B[1;33m=\u001B[0m\u001B[1;36m0.1\u001B[0m\u001B[1;33m)\u001B[0m\u001B[1;33m\u001B[0m\u001B[1;33m\u001B[0m\u001B[0m\n\u001B[0m\u001B[0;32m      4\u001B[0m \u001B[1;33m\u001B[0m\u001B[0m\n\u001B[0;32m      5\u001B[0m \u001B[1;33m\u001B[0m\u001B[0m\n",
      "\u001B[1;32mf:\\academic\\sem7\\fyp\\codes\\apriori\\venv\\lib\\site-packages\\mlxtend\\frequent_patterns\\association_rules.py\u001B[0m in \u001B[0;36massociation_rules\u001B[1;34m(df, metric, min_threshold, support_only)\u001B[0m\n\u001B[0;32m    161\u001B[0m                                       \u001B[1;34m' You can try using the '\u001B[0m\u001B[1;33m\u001B[0m\u001B[1;33m\u001B[0m\u001B[0m\n\u001B[0;32m    162\u001B[0m                                       ' `support_only=True` option')\n\u001B[1;32m--> 163\u001B[1;33m                         \u001B[1;32mraise\u001B[0m \u001B[0mKeyError\u001B[0m\u001B[1;33m(\u001B[0m\u001B[0ms\u001B[0m\u001B[1;33m)\u001B[0m\u001B[1;33m\u001B[0m\u001B[1;33m\u001B[0m\u001B[0m\n\u001B[0m\u001B[0;32m    164\u001B[0m                     \u001B[1;31m# check for the threshold\u001B[0m\u001B[1;33m\u001B[0m\u001B[1;33m\u001B[0m\u001B[1;33m\u001B[0m\u001B[0m\n\u001B[0;32m    165\u001B[0m \u001B[1;33m\u001B[0m\u001B[0m\n",
      "\u001B[1;31mKeyError\u001B[0m: 'frozenset({\\'z\\', \\'e\\', \\'9\\', \\'f\\', \\'s\\', \\'}\\', \\'(\\', \\'_\\', \\'{\\', \\')\\', \\'r\\', \"\\'\", \\'o\\', \\'0\\', \\'n\\', \\'4\\'})You are likely getting this error because the DataFrame is missing  antecedent and/or consequent  information. You can try using the  `support_only=True` option'"
     ]
    }
   ],
   "source": [],
   "metadata": {
    "collapsed": false,
    "pycharm": {
     "name": "#%%\n"
    }
   }
  },
  {
   "cell_type": "code",
   "execution_count": null,
   "outputs": [],
   "source": [
    "\n"
   ],
   "metadata": {
    "collapsed": false,
    "pycharm": {
     "name": "#%%\n"
    }
   }
  }
 ],
 "metadata": {
  "kernelspec": {
   "display_name": "Python 3",
   "language": "python",
   "name": "python3"
  },
  "language_info": {
   "codemirror_mode": {
    "name": "ipython",
    "version": 3
   },
   "file_extension": ".py",
   "mimetype": "text/x-python",
   "name": "python",
   "nbconvert_exporter": "python",
   "pygments_lexer": "ipython3",
   "version": "3.9.1"
  }
 },
 "nbformat": 4,
 "nbformat_minor": 1
}