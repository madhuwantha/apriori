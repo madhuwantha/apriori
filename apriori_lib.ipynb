{
 "cells": [
  {
   "cell_type": "code",
   "execution_count": 1,
   "metadata": {
    "collapsed": true
   },
   "outputs": [],
   "source": [
    "import pandas as pd\n",
    "import apriori_functions\n",
    "import define_\n",
    "from mlxtend.frequent_patterns import apriori\n",
    "from mlxtend.preprocessing import TransactionEncoder\n",
    "from mlxtend.frequent_patterns import association_rules"
   ]
  },
  {
   "cell_type": "code",
   "execution_count": 2,
   "outputs": [
    {
     "data": {
      "text/plain": "   No.      Time      Source Destination Protocol  Length  \\\n0    1  0.000000  11.0.0.192   10.0.0.13      TCP      74   \n1    2  0.001978   11.0.0.85   10.0.0.13      TCP      74   \n2    3  0.002053  11.0.0.192   10.0.0.13      TCP      66   \n3    4  0.002106  11.0.0.192   10.0.0.13     HTTP     139   \n4    5  0.002186   11.0.0.85   10.0.0.13      TCP      66   \n\n                                                Info  Src_port  Dst_port Class  \n0  45414  >  80 [SYN] Seq=0 Win=28200 Len=0 MSS=1...   45414.0      80.0    A2  \n1  40847  >  80 [SYN] Seq=0 Win=28200 Len=0 MSS=1...   40847.0      80.0    A2  \n2  45414  >  80 [ACK] Seq=1 Ack=1 Win=28224 Len=0...   45414.0      80.0    A2  \n3                                    GET / HTTP/1.1    45414.0      80.0    A2  \n4  40847  >  80 [ACK] Seq=1 Ack=1 Win=28224 Len=0...   40847.0      80.0    A2  ",
      "text/html": "<div>\n<style scoped>\n    .dataframe tbody tr th:only-of-type {\n        vertical-align: middle;\n    }\n\n    .dataframe tbody tr th {\n        vertical-align: top;\n    }\n\n    .dataframe thead th {\n        text-align: right;\n    }\n</style>\n<table border=\"1\" class=\"dataframe\">\n  <thead>\n    <tr style=\"text-align: right;\">\n      <th></th>\n      <th>No.</th>\n      <th>Time</th>\n      <th>Source</th>\n      <th>Destination</th>\n      <th>Protocol</th>\n      <th>Length</th>\n      <th>Info</th>\n      <th>Src_port</th>\n      <th>Dst_port</th>\n      <th>Class</th>\n    </tr>\n  </thead>\n  <tbody>\n    <tr>\n      <th>0</th>\n      <td>1</td>\n      <td>0.000000</td>\n      <td>11.0.0.192</td>\n      <td>10.0.0.13</td>\n      <td>TCP</td>\n      <td>74</td>\n      <td>45414  &gt;  80 [SYN] Seq=0 Win=28200 Len=0 MSS=1...</td>\n      <td>45414.0</td>\n      <td>80.0</td>\n      <td>A2</td>\n    </tr>\n    <tr>\n      <th>1</th>\n      <td>2</td>\n      <td>0.001978</td>\n      <td>11.0.0.85</td>\n      <td>10.0.0.13</td>\n      <td>TCP</td>\n      <td>74</td>\n      <td>40847  &gt;  80 [SYN] Seq=0 Win=28200 Len=0 MSS=1...</td>\n      <td>40847.0</td>\n      <td>80.0</td>\n      <td>A2</td>\n    </tr>\n    <tr>\n      <th>2</th>\n      <td>3</td>\n      <td>0.002053</td>\n      <td>11.0.0.192</td>\n      <td>10.0.0.13</td>\n      <td>TCP</td>\n      <td>66</td>\n      <td>45414  &gt;  80 [ACK] Seq=1 Ack=1 Win=28224 Len=0...</td>\n      <td>45414.0</td>\n      <td>80.0</td>\n      <td>A2</td>\n    </tr>\n    <tr>\n      <th>3</th>\n      <td>4</td>\n      <td>0.002106</td>\n      <td>11.0.0.192</td>\n      <td>10.0.0.13</td>\n      <td>HTTP</td>\n      <td>139</td>\n      <td>GET / HTTP/1.1</td>\n      <td>45414.0</td>\n      <td>80.0</td>\n      <td>A2</td>\n    </tr>\n    <tr>\n      <th>4</th>\n      <td>5</td>\n      <td>0.002186</td>\n      <td>11.0.0.85</td>\n      <td>10.0.0.13</td>\n      <td>TCP</td>\n      <td>66</td>\n      <td>40847  &gt;  80 [ACK] Seq=1 Ack=1 Win=28224 Len=0...</td>\n      <td>40847.0</td>\n      <td>80.0</td>\n      <td>A2</td>\n    </tr>\n  </tbody>\n</table>\n</div>"
     },
     "execution_count": 2,
     "metadata": {},
     "output_type": "execute_result"
    }
   ],
   "source": [
    "dataSet = pd.read_csv(define_.DATA_FILE_PATH)\n",
    "dataSet.head()"
   ],
   "metadata": {
    "collapsed": false,
    "pycharm": {
     "name": "#%%\n"
    }
   }
  },
  {
   "cell_type": "code",
   "execution_count": 3,
   "outputs": [
    {
     "data": {
      "text/plain": "        Protocol Length Dst_port Class Dst_ip_range Direction\n0          p-TCP    l-1   d-80.0  c-A2    r-PRIVATE     x-OUT\n1          p-TCP    l-1   d-80.0  c-A2    r-PRIVATE     x-OUT\n2          p-TCP    l-1   d-80.0  c-A2    r-PRIVATE     x-OUT\n3         p-HTTP    l-1   d-80.0  c-A2    r-PRIVATE     x-OUT\n4          p-TCP    l-1   d-80.0  c-A2    r-PRIVATE     x-OUT\n...          ...    ...      ...   ...          ...       ...\n1048569    p-TCP    l-1   d-80.0  c-A1    r-PRIVATE     x-OUT\n1048570    p-TCP    l-1   d-80.0  c-A1    r-PRIVATE     x-OUT\n1048571   p-HTTP    l-1   d-80.0  c-A1    r-PRIVATE     x-OUT\n1048572    p-TCP    l-1   d-80.0  c-A1    r-PRIVATE     x-OUT\n1048573    p-TCP    l-1   d-80.0  c-A1    r-PRIVATE     x-OUT\n\n[1048574 rows x 6 columns]",
      "text/html": "<div>\n<style scoped>\n    .dataframe tbody tr th:only-of-type {\n        vertical-align: middle;\n    }\n\n    .dataframe tbody tr th {\n        vertical-align: top;\n    }\n\n    .dataframe thead th {\n        text-align: right;\n    }\n</style>\n<table border=\"1\" class=\"dataframe\">\n  <thead>\n    <tr style=\"text-align: right;\">\n      <th></th>\n      <th>Protocol</th>\n      <th>Length</th>\n      <th>Dst_port</th>\n      <th>Class</th>\n      <th>Dst_ip_range</th>\n      <th>Direction</th>\n    </tr>\n  </thead>\n  <tbody>\n    <tr>\n      <th>0</th>\n      <td>p-TCP</td>\n      <td>l-1</td>\n      <td>d-80.0</td>\n      <td>c-A2</td>\n      <td>r-PRIVATE</td>\n      <td>x-OUT</td>\n    </tr>\n    <tr>\n      <th>1</th>\n      <td>p-TCP</td>\n      <td>l-1</td>\n      <td>d-80.0</td>\n      <td>c-A2</td>\n      <td>r-PRIVATE</td>\n      <td>x-OUT</td>\n    </tr>\n    <tr>\n      <th>2</th>\n      <td>p-TCP</td>\n      <td>l-1</td>\n      <td>d-80.0</td>\n      <td>c-A2</td>\n      <td>r-PRIVATE</td>\n      <td>x-OUT</td>\n    </tr>\n    <tr>\n      <th>3</th>\n      <td>p-HTTP</td>\n      <td>l-1</td>\n      <td>d-80.0</td>\n      <td>c-A2</td>\n      <td>r-PRIVATE</td>\n      <td>x-OUT</td>\n    </tr>\n    <tr>\n      <th>4</th>\n      <td>p-TCP</td>\n      <td>l-1</td>\n      <td>d-80.0</td>\n      <td>c-A2</td>\n      <td>r-PRIVATE</td>\n      <td>x-OUT</td>\n    </tr>\n    <tr>\n      <th>...</th>\n      <td>...</td>\n      <td>...</td>\n      <td>...</td>\n      <td>...</td>\n      <td>...</td>\n      <td>...</td>\n    </tr>\n    <tr>\n      <th>1048569</th>\n      <td>p-TCP</td>\n      <td>l-1</td>\n      <td>d-80.0</td>\n      <td>c-A1</td>\n      <td>r-PRIVATE</td>\n      <td>x-OUT</td>\n    </tr>\n    <tr>\n      <th>1048570</th>\n      <td>p-TCP</td>\n      <td>l-1</td>\n      <td>d-80.0</td>\n      <td>c-A1</td>\n      <td>r-PRIVATE</td>\n      <td>x-OUT</td>\n    </tr>\n    <tr>\n      <th>1048571</th>\n      <td>p-HTTP</td>\n      <td>l-1</td>\n      <td>d-80.0</td>\n      <td>c-A1</td>\n      <td>r-PRIVATE</td>\n      <td>x-OUT</td>\n    </tr>\n    <tr>\n      <th>1048572</th>\n      <td>p-TCP</td>\n      <td>l-1</td>\n      <td>d-80.0</td>\n      <td>c-A1</td>\n      <td>r-PRIVATE</td>\n      <td>x-OUT</td>\n    </tr>\n    <tr>\n      <th>1048573</th>\n      <td>p-TCP</td>\n      <td>l-1</td>\n      <td>d-80.0</td>\n      <td>c-A1</td>\n      <td>r-PRIVATE</td>\n      <td>x-OUT</td>\n    </tr>\n  </tbody>\n</table>\n<p>1048574 rows × 6 columns</p>\n</div>"
     },
     "execution_count": 3,
     "metadata": {},
     "output_type": "execute_result"
    }
   ],
   "source": [
    "dataSet = apriori_functions.preProcessing(dataSet)\n",
    "dataSet"
   ],
   "metadata": {
    "collapsed": false,
    "pycharm": {
     "name": "#%%\n"
    }
   }
  },
  {
   "cell_type": "code",
   "execution_count": 13,
   "outputs": [
    {
     "data": {
      "text/plain": "Index(['Protocol', 'Length', 'Dst_port', 'Class', 'Dst_ip_range', 'Direction'], dtype='object')"
     },
     "execution_count": 13,
     "metadata": {},
     "output_type": "execute_result"
    }
   ],
   "source": [
    "dataSet.columns"
   ],
   "metadata": {
    "collapsed": false,
    "pycharm": {
     "name": "#%%\n"
    }
   }
  },
  {
   "cell_type": "code",
   "execution_count": 4,
   "outputs": [
    {
     "data": {
      "text/plain": "         c-A1  c-A2  c-A3  d-22.0  d-32768.0  d-32770.0  d-32772.0  d-32774.0  \\\n0           0     1     0       0          0          0          0          0   \n1           0     1     0       0          0          0          0          0   \n2           0     1     0       0          0          0          0          0   \n3           0     1     0       0          0          0          0          0   \n4           0     1     0       0          0          0          0          0   \n...       ...   ...   ...     ...        ...        ...        ...        ...   \n1048569     1     0     0       0          0          0          0          0   \n1048570     1     0     0       0          0          0          0          0   \n1048571     1     0     0       0          0          0          0          0   \n1048572     1     0     0       0          0          0          0          0   \n1048573     1     0     0       0          0          0          0          0   \n\n         d-32776.0  d-32778.0  ...  p-DNS  p-HTTP  p-SSH  p-SSHv2  p-TCP  \\\n0                0          0  ...      0       0      0        0      1   \n1                0          0  ...      0       0      0        0      1   \n2                0          0  ...      0       0      0        0      1   \n3                0          0  ...      0       1      0        0      0   \n4                0          0  ...      0       0      0        0      1   \n...            ...        ...  ...    ...     ...    ...      ...    ...   \n1048569          0          0  ...      0       0      0        0      1   \n1048570          0          0  ...      0       0      0        0      1   \n1048571          0          0  ...      0       1      0        0      0   \n1048572          0          0  ...      0       0      0        0      1   \n1048573          0          0  ...      0       0      0        0      1   \n\n         r-NON  r-PRIVATE  r-PUBLIC  x-NON  x-OUT  \n0            0       True         0      0   True  \n1            0       True         0      0   True  \n2            0       True         0      0   True  \n3            0       True         0      0   True  \n4            0       True         0      0   True  \n...        ...        ...       ...    ...    ...  \n1048569      0       True         0      0   True  \n1048570      0       True         0      0   True  \n1048571      0       True         0      0   True  \n1048572      0       True         0      0   True  \n1048573      0       True         0      0   True  \n\n[1048574 rows x 14137 columns]",
      "text/html": "<div>\n<style scoped>\n    .dataframe tbody tr th:only-of-type {\n        vertical-align: middle;\n    }\n\n    .dataframe tbody tr th {\n        vertical-align: top;\n    }\n\n    .dataframe thead th {\n        text-align: right;\n    }\n</style>\n<table border=\"1\" class=\"dataframe\">\n  <thead>\n    <tr style=\"text-align: right;\">\n      <th></th>\n      <th>c-A1</th>\n      <th>c-A2</th>\n      <th>c-A3</th>\n      <th>d-22.0</th>\n      <th>d-32768.0</th>\n      <th>d-32770.0</th>\n      <th>d-32772.0</th>\n      <th>d-32774.0</th>\n      <th>d-32776.0</th>\n      <th>d-32778.0</th>\n      <th>...</th>\n      <th>p-DNS</th>\n      <th>p-HTTP</th>\n      <th>p-SSH</th>\n      <th>p-SSHv2</th>\n      <th>p-TCP</th>\n      <th>r-NON</th>\n      <th>r-PRIVATE</th>\n      <th>r-PUBLIC</th>\n      <th>x-NON</th>\n      <th>x-OUT</th>\n    </tr>\n  </thead>\n  <tbody>\n    <tr>\n      <th>0</th>\n      <td>0</td>\n      <td>1</td>\n      <td>0</td>\n      <td>0</td>\n      <td>0</td>\n      <td>0</td>\n      <td>0</td>\n      <td>0</td>\n      <td>0</td>\n      <td>0</td>\n      <td>...</td>\n      <td>0</td>\n      <td>0</td>\n      <td>0</td>\n      <td>0</td>\n      <td>1</td>\n      <td>0</td>\n      <td>True</td>\n      <td>0</td>\n      <td>0</td>\n      <td>True</td>\n    </tr>\n    <tr>\n      <th>1</th>\n      <td>0</td>\n      <td>1</td>\n      <td>0</td>\n      <td>0</td>\n      <td>0</td>\n      <td>0</td>\n      <td>0</td>\n      <td>0</td>\n      <td>0</td>\n      <td>0</td>\n      <td>...</td>\n      <td>0</td>\n      <td>0</td>\n      <td>0</td>\n      <td>0</td>\n      <td>1</td>\n      <td>0</td>\n      <td>True</td>\n      <td>0</td>\n      <td>0</td>\n      <td>True</td>\n    </tr>\n    <tr>\n      <th>2</th>\n      <td>0</td>\n      <td>1</td>\n      <td>0</td>\n      <td>0</td>\n      <td>0</td>\n      <td>0</td>\n      <td>0</td>\n      <td>0</td>\n      <td>0</td>\n      <td>0</td>\n      <td>...</td>\n      <td>0</td>\n      <td>0</td>\n      <td>0</td>\n      <td>0</td>\n      <td>1</td>\n      <td>0</td>\n      <td>True</td>\n      <td>0</td>\n      <td>0</td>\n      <td>True</td>\n    </tr>\n    <tr>\n      <th>3</th>\n      <td>0</td>\n      <td>1</td>\n      <td>0</td>\n      <td>0</td>\n      <td>0</td>\n      <td>0</td>\n      <td>0</td>\n      <td>0</td>\n      <td>0</td>\n      <td>0</td>\n      <td>...</td>\n      <td>0</td>\n      <td>1</td>\n      <td>0</td>\n      <td>0</td>\n      <td>0</td>\n      <td>0</td>\n      <td>True</td>\n      <td>0</td>\n      <td>0</td>\n      <td>True</td>\n    </tr>\n    <tr>\n      <th>4</th>\n      <td>0</td>\n      <td>1</td>\n      <td>0</td>\n      <td>0</td>\n      <td>0</td>\n      <td>0</td>\n      <td>0</td>\n      <td>0</td>\n      <td>0</td>\n      <td>0</td>\n      <td>...</td>\n      <td>0</td>\n      <td>0</td>\n      <td>0</td>\n      <td>0</td>\n      <td>1</td>\n      <td>0</td>\n      <td>True</td>\n      <td>0</td>\n      <td>0</td>\n      <td>True</td>\n    </tr>\n    <tr>\n      <th>...</th>\n      <td>...</td>\n      <td>...</td>\n      <td>...</td>\n      <td>...</td>\n      <td>...</td>\n      <td>...</td>\n      <td>...</td>\n      <td>...</td>\n      <td>...</td>\n      <td>...</td>\n      <td>...</td>\n      <td>...</td>\n      <td>...</td>\n      <td>...</td>\n      <td>...</td>\n      <td>...</td>\n      <td>...</td>\n      <td>...</td>\n      <td>...</td>\n      <td>...</td>\n      <td>...</td>\n    </tr>\n    <tr>\n      <th>1048569</th>\n      <td>1</td>\n      <td>0</td>\n      <td>0</td>\n      <td>0</td>\n      <td>0</td>\n      <td>0</td>\n      <td>0</td>\n      <td>0</td>\n      <td>0</td>\n      <td>0</td>\n      <td>...</td>\n      <td>0</td>\n      <td>0</td>\n      <td>0</td>\n      <td>0</td>\n      <td>1</td>\n      <td>0</td>\n      <td>True</td>\n      <td>0</td>\n      <td>0</td>\n      <td>True</td>\n    </tr>\n    <tr>\n      <th>1048570</th>\n      <td>1</td>\n      <td>0</td>\n      <td>0</td>\n      <td>0</td>\n      <td>0</td>\n      <td>0</td>\n      <td>0</td>\n      <td>0</td>\n      <td>0</td>\n      <td>0</td>\n      <td>...</td>\n      <td>0</td>\n      <td>0</td>\n      <td>0</td>\n      <td>0</td>\n      <td>1</td>\n      <td>0</td>\n      <td>True</td>\n      <td>0</td>\n      <td>0</td>\n      <td>True</td>\n    </tr>\n    <tr>\n      <th>1048571</th>\n      <td>1</td>\n      <td>0</td>\n      <td>0</td>\n      <td>0</td>\n      <td>0</td>\n      <td>0</td>\n      <td>0</td>\n      <td>0</td>\n      <td>0</td>\n      <td>0</td>\n      <td>...</td>\n      <td>0</td>\n      <td>1</td>\n      <td>0</td>\n      <td>0</td>\n      <td>0</td>\n      <td>0</td>\n      <td>True</td>\n      <td>0</td>\n      <td>0</td>\n      <td>True</td>\n    </tr>\n    <tr>\n      <th>1048572</th>\n      <td>1</td>\n      <td>0</td>\n      <td>0</td>\n      <td>0</td>\n      <td>0</td>\n      <td>0</td>\n      <td>0</td>\n      <td>0</td>\n      <td>0</td>\n      <td>0</td>\n      <td>...</td>\n      <td>0</td>\n      <td>0</td>\n      <td>0</td>\n      <td>0</td>\n      <td>1</td>\n      <td>0</td>\n      <td>True</td>\n      <td>0</td>\n      <td>0</td>\n      <td>True</td>\n    </tr>\n    <tr>\n      <th>1048573</th>\n      <td>1</td>\n      <td>0</td>\n      <td>0</td>\n      <td>0</td>\n      <td>0</td>\n      <td>0</td>\n      <td>0</td>\n      <td>0</td>\n      <td>0</td>\n      <td>0</td>\n      <td>...</td>\n      <td>0</td>\n      <td>0</td>\n      <td>0</td>\n      <td>0</td>\n      <td>1</td>\n      <td>0</td>\n      <td>True</td>\n      <td>0</td>\n      <td>0</td>\n      <td>True</td>\n    </tr>\n  </tbody>\n</table>\n<p>1048574 rows × 14137 columns</p>\n</div>"
     },
     "execution_count": 4,
     "metadata": {},
     "output_type": "execute_result"
    }
   ],
   "source": [
    "te = TransactionEncoder()\n",
    "te_ary = te.fit(dataSet.to_numpy()).transform(dataSet.to_numpy(), sparse=True)\n",
    "transformed_df = pd.DataFrame.sparse.from_spmatrix(te_ary, columns=te.columns_)\n",
    "transformed_df"
   ],
   "metadata": {
    "collapsed": false,
    "pycharm": {
     "name": "#%%\n"
    }
   }
  },
  {
   "cell_type": "code",
   "execution_count": 5,
   "outputs": [],
   "source": [
    "freqItemsets = apriori(transformed_df, min_support=0.1, use_colnames=True)\n",
    "freqItemsets.to_csv(define_.FREQ_ITEMS_FILE_PATH)"
   ],
   "metadata": {
    "collapsed": false,
    "pycharm": {
     "name": "#%%\n"
    }
   }
  },
  {
   "cell_type": "code",
   "execution_count": 6,
   "outputs": [
    {
     "ename": "TypeError",
     "evalue": "'int' object is not iterable",
     "output_type": "error",
     "traceback": [
      "\u001B[1;31m---------------------------------------------------------------------------\u001B[0m",
      "\u001B[1;31mTypeError\u001B[0m                                 Traceback (most recent call last)",
      "\u001B[1;32m<ipython-input-6-2cb0df2b3f6a>\u001B[0m in \u001B[0;36m<module>\u001B[1;34m\u001B[0m\n\u001B[0;32m      1\u001B[0m \u001B[0mfreq\u001B[0m \u001B[1;33m=\u001B[0m \u001B[0mpd\u001B[0m\u001B[1;33m.\u001B[0m\u001B[0mread_csv\u001B[0m\u001B[1;33m(\u001B[0m\u001B[0mdefine_\u001B[0m\u001B[1;33m.\u001B[0m\u001B[0mFREQ_ITEMS_FILE_PATH\u001B[0m\u001B[1;33m)\u001B[0m\u001B[1;33m\u001B[0m\u001B[1;33m\u001B[0m\u001B[0m\n\u001B[1;32m----> 2\u001B[1;33m \u001B[0mdf\u001B[0m \u001B[1;33m=\u001B[0m \u001B[0mapriori_functions\u001B[0m\u001B[1;33m.\u001B[0m\u001B[0mfreqItemToDF\u001B[0m\u001B[1;33m(\u001B[0m\u001B[0mfreq\u001B[0m\u001B[1;33m.\u001B[0m\u001B[0mto_numpy\u001B[0m\u001B[1;33m(\u001B[0m\u001B[1;33m)\u001B[0m\u001B[1;33m)\u001B[0m\u001B[1;33m\u001B[0m\u001B[1;33m\u001B[0m\u001B[0m\n\u001B[0m\u001B[0;32m      3\u001B[0m \u001B[0mdf\u001B[0m\u001B[1;33m.\u001B[0m\u001B[0mto_csv\u001B[0m\u001B[1;33m(\u001B[0m\u001B[0mdefine_\u001B[0m\u001B[1;33m.\u001B[0m\u001B[0mFREQ_ITEM_FORMATTED_FILE_PATH\u001B[0m\u001B[1;33m)\u001B[0m\u001B[1;33m\u001B[0m\u001B[1;33m\u001B[0m\u001B[0m\n",
      "\u001B[1;32mF:\\Academic\\sem7\\FYP\\codes\\Apriori\\apriori_functions.py\u001B[0m in \u001B[0;36mfreqItemToDF\u001B[1;34m(freq)\u001B[0m\n\u001B[0;32m    288\u001B[0m         \u001B[1;32mfor\u001B[0m \u001B[0mj\u001B[0m \u001B[1;32min\u001B[0m \u001B[0mrange\u001B[0m\u001B[1;33m(\u001B[0m\u001B[0mlen_\u001B[0m\u001B[1;33m)\u001B[0m\u001B[1;33m:\u001B[0m\u001B[1;33m\u001B[0m\u001B[1;33m\u001B[0m\u001B[0m\n\u001B[0;32m    289\u001B[0m             \u001B[0marr\u001B[0m \u001B[1;33m=\u001B[0m \u001B[0mnp\u001B[0m\u001B[1;33m.\u001B[0m\u001B[0marray\u001B[0m\u001B[1;33m(\u001B[0m\u001B[1;33m[\u001B[0m\u001B[1;34m'*     '\u001B[0m\u001B[1;33m,\u001B[0m \u001B[1;34m'*     '\u001B[0m\u001B[1;33m,\u001B[0m \u001B[1;34m'*     '\u001B[0m\u001B[1;33m,\u001B[0m \u001B[1;34m'*         '\u001B[0m\u001B[1;33m,\u001B[0m \u001B[1;34m'*       '\u001B[0m\u001B[1;33m,\u001B[0m \u001B[1;34m'*      '\u001B[0m\u001B[1;33m]\u001B[0m\u001B[1;33m)\u001B[0m\u001B[1;33m\u001B[0m\u001B[1;33m\u001B[0m\u001B[0m\n\u001B[1;32m--> 290\u001B[1;33m             \u001B[0mitem\u001B[0m \u001B[1;33m=\u001B[0m \u001B[0mlist\u001B[0m\u001B[1;33m(\u001B[0m\u001B[0mfreq\u001B[0m\u001B[1;33m[\u001B[0m\u001B[0mi\u001B[0m\u001B[1;33m]\u001B[0m\u001B[1;33m[\u001B[0m\u001B[0mj\u001B[0m\u001B[1;33m]\u001B[0m\u001B[1;33m)\u001B[0m\u001B[1;33m\u001B[0m\u001B[1;33m\u001B[0m\u001B[0m\n\u001B[0m\u001B[0;32m    291\u001B[0m             \u001B[1;32mfor\u001B[0m \u001B[0mk\u001B[0m \u001B[1;32min\u001B[0m \u001B[0mrange\u001B[0m\u001B[1;33m(\u001B[0m\u001B[0mlen\u001B[0m\u001B[1;33m(\u001B[0m\u001B[0mitem\u001B[0m\u001B[1;33m)\u001B[0m\u001B[1;33m)\u001B[0m\u001B[1;33m:\u001B[0m\u001B[1;33m\u001B[0m\u001B[1;33m\u001B[0m\u001B[0m\n\u001B[0;32m    292\u001B[0m                 \u001B[0mkItem\u001B[0m \u001B[1;33m=\u001B[0m \u001B[0mitem\u001B[0m\u001B[1;33m[\u001B[0m\u001B[0mk\u001B[0m\u001B[1;33m]\u001B[0m\u001B[1;33m\u001B[0m\u001B[1;33m\u001B[0m\u001B[0m\n",
      "\u001B[1;31mTypeError\u001B[0m: 'int' object is not iterable"
     ]
    }
   ],
   "source": [
    "freq = pd.read_csv(define_.FREQ_ITEMS_FILE_PATH)\n",
    "df = apriori_functions.freqItemToDF(freq.to_numpy())\n",
    "df.to_csv(define_.FREQ_ITEM_FORMATTED_FILE_PATH)"
   ],
   "metadata": {
    "collapsed": false,
    "pycharm": {
     "name": "#%%\n"
    }
   }
  },
  {
   "cell_type": "code",
   "execution_count": 6,
   "outputs": [
    {
     "data": {
      "text/plain": "    index antecedents                             consequents  \\\n0       0      [c-A1]                                   [l-0]   \n1       2      [c-A1]                                 [p-TCP]   \n2       4      [c-A1]                             [r-PRIVATE]   \n3       6      [c-A1]                                 [x-OUT]   \n4       8      [c-A2]                                [d-80.0]   \n..    ...         ...                                     ...   \n72   1075      [c-A3]         [r-PRIVATE, l-1, x-OUT, d-80.0]   \n73   1106      [c-A3]       [p-TCP, r-PRIVATE, x-OUT, d-80.0]   \n74   1135      [c-A3]          [r-PRIVATE, p-TCP, l-1, x-OUT]   \n75   1258      [c-A2]  [x-OUT, d-80.0, p-TCP, l-1, r-PRIVATE]   \n76   1319      [c-A3]  [x-OUT, d-80.0, p-TCP, l-1, r-PRIVATE]   \n\n    antecedent support  consequent support   support  confidence      lift  \\\n0             0.255297            0.188013  0.187633    0.734959  3.909076   \n1             0.255297            0.829059  0.245762    0.962652  1.161138   \n2             0.255297            0.999937  0.255286    0.999955  1.000018   \n3             0.255297            0.999960  0.255291    0.999978  1.000018   \n4             0.191868            0.747175  0.191626    0.998737  1.336685   \n..                 ...                 ...       ...         ...       ...   \n72            0.552835            0.746699  0.487641    0.882074  1.181299   \n73            0.552835            0.641409  0.418851    0.757642  1.181215   \n74            0.552835            0.641078  0.418748    0.757456  1.181534   \n75            0.191868            0.640933  0.164116    0.855359  1.334553   \n76            0.552835            0.640933  0.418701    0.757371  1.181669   \n\n    leverage  conviction  \n0   0.139634    3.063624  \n1   0.034106    4.576964  \n2   0.000005    1.404135  \n3   0.000005    1.787080  \n4   0.048267  200.257518  \n..       ...         ...  \n72  0.074840    2.147976  \n73  0.064258    1.479592  \n74  0.064337    1.479820  \n75  0.041142    2.482471  \n76  0.064371    1.479901  \n\n[77 rows x 10 columns]",
      "text/html": "<div>\n<style scoped>\n    .dataframe tbody tr th:only-of-type {\n        vertical-align: middle;\n    }\n\n    .dataframe tbody tr th {\n        vertical-align: top;\n    }\n\n    .dataframe thead th {\n        text-align: right;\n    }\n</style>\n<table border=\"1\" class=\"dataframe\">\n  <thead>\n    <tr style=\"text-align: right;\">\n      <th></th>\n      <th>index</th>\n      <th>antecedents</th>\n      <th>consequents</th>\n      <th>antecedent support</th>\n      <th>consequent support</th>\n      <th>support</th>\n      <th>confidence</th>\n      <th>lift</th>\n      <th>leverage</th>\n      <th>conviction</th>\n    </tr>\n  </thead>\n  <tbody>\n    <tr>\n      <th>0</th>\n      <td>0</td>\n      <td>[c-A1]</td>\n      <td>[l-0]</td>\n      <td>0.255297</td>\n      <td>0.188013</td>\n      <td>0.187633</td>\n      <td>0.734959</td>\n      <td>3.909076</td>\n      <td>0.139634</td>\n      <td>3.063624</td>\n    </tr>\n    <tr>\n      <th>1</th>\n      <td>2</td>\n      <td>[c-A1]</td>\n      <td>[p-TCP]</td>\n      <td>0.255297</td>\n      <td>0.829059</td>\n      <td>0.245762</td>\n      <td>0.962652</td>\n      <td>1.161138</td>\n      <td>0.034106</td>\n      <td>4.576964</td>\n    </tr>\n    <tr>\n      <th>2</th>\n      <td>4</td>\n      <td>[c-A1]</td>\n      <td>[r-PRIVATE]</td>\n      <td>0.255297</td>\n      <td>0.999937</td>\n      <td>0.255286</td>\n      <td>0.999955</td>\n      <td>1.000018</td>\n      <td>0.000005</td>\n      <td>1.404135</td>\n    </tr>\n    <tr>\n      <th>3</th>\n      <td>6</td>\n      <td>[c-A1]</td>\n      <td>[x-OUT]</td>\n      <td>0.255297</td>\n      <td>0.999960</td>\n      <td>0.255291</td>\n      <td>0.999978</td>\n      <td>1.000018</td>\n      <td>0.000005</td>\n      <td>1.787080</td>\n    </tr>\n    <tr>\n      <th>4</th>\n      <td>8</td>\n      <td>[c-A2]</td>\n      <td>[d-80.0]</td>\n      <td>0.191868</td>\n      <td>0.747175</td>\n      <td>0.191626</td>\n      <td>0.998737</td>\n      <td>1.336685</td>\n      <td>0.048267</td>\n      <td>200.257518</td>\n    </tr>\n    <tr>\n      <th>...</th>\n      <td>...</td>\n      <td>...</td>\n      <td>...</td>\n      <td>...</td>\n      <td>...</td>\n      <td>...</td>\n      <td>...</td>\n      <td>...</td>\n      <td>...</td>\n      <td>...</td>\n    </tr>\n    <tr>\n      <th>72</th>\n      <td>1075</td>\n      <td>[c-A3]</td>\n      <td>[r-PRIVATE, l-1, x-OUT, d-80.0]</td>\n      <td>0.552835</td>\n      <td>0.746699</td>\n      <td>0.487641</td>\n      <td>0.882074</td>\n      <td>1.181299</td>\n      <td>0.074840</td>\n      <td>2.147976</td>\n    </tr>\n    <tr>\n      <th>73</th>\n      <td>1106</td>\n      <td>[c-A3]</td>\n      <td>[p-TCP, r-PRIVATE, x-OUT, d-80.0]</td>\n      <td>0.552835</td>\n      <td>0.641409</td>\n      <td>0.418851</td>\n      <td>0.757642</td>\n      <td>1.181215</td>\n      <td>0.064258</td>\n      <td>1.479592</td>\n    </tr>\n    <tr>\n      <th>74</th>\n      <td>1135</td>\n      <td>[c-A3]</td>\n      <td>[r-PRIVATE, p-TCP, l-1, x-OUT]</td>\n      <td>0.552835</td>\n      <td>0.641078</td>\n      <td>0.418748</td>\n      <td>0.757456</td>\n      <td>1.181534</td>\n      <td>0.064337</td>\n      <td>1.479820</td>\n    </tr>\n    <tr>\n      <th>75</th>\n      <td>1258</td>\n      <td>[c-A2]</td>\n      <td>[x-OUT, d-80.0, p-TCP, l-1, r-PRIVATE]</td>\n      <td>0.191868</td>\n      <td>0.640933</td>\n      <td>0.164116</td>\n      <td>0.855359</td>\n      <td>1.334553</td>\n      <td>0.041142</td>\n      <td>2.482471</td>\n    </tr>\n    <tr>\n      <th>76</th>\n      <td>1319</td>\n      <td>[c-A3]</td>\n      <td>[x-OUT, d-80.0, p-TCP, l-1, r-PRIVATE]</td>\n      <td>0.552835</td>\n      <td>0.640933</td>\n      <td>0.418701</td>\n      <td>0.757371</td>\n      <td>1.181669</td>\n      <td>0.064371</td>\n      <td>1.479901</td>\n    </tr>\n  </tbody>\n</table>\n<p>77 rows × 10 columns</p>\n</div>"
     },
     "execution_count": 6,
     "metadata": {},
     "output_type": "execute_result"
    }
   ],
   "source": [
    "rules = association_rules(freqItemsets, metric=\"confidence\", min_threshold=0.1)\n",
    "rules = rules[(rules['antecedents'] == {'c-A1'}) |\n",
    "                (rules['antecedents'] == {'c-A2'}) |\n",
    "                (rules['antecedents'] == {'c-A3'}) ]\n",
    "type(rules)\n",
    "rules['antecedents'] = rules.apply(lambda row: apriori_functions.convertToStringList(str(list(row['antecedents']))), axis=1)\n",
    "rules['consequents'] = rules.apply(lambda row: apriori_functions.convertToStringList(str(list(row['consequents']))), axis=1)\n",
    "rules.reset_index(inplace=True)\n",
    "rules.to_csv(define_.FINAL_RULES_FILE_PATH, index=False)\n",
    "rules"
   ],
   "metadata": {
    "collapsed": false,
    "pycharm": {
     "name": "#%%\n"
    }
   }
  },
  {
   "cell_type": "code",
   "execution_count": 2,
   "outputs": [],
   "source": [
    "rules = pd.read_csv(define_.FINAL_RULES_FILE_PATH)"
   ],
   "metadata": {
    "collapsed": false,
    "pycharm": {
     "name": "#%%\n"
    }
   }
  },
  {
   "cell_type": "code",
   "execution_count": 3,
   "outputs": [],
   "source": [
    "# r, c = final_Rules.shape\n",
    "featureList = [define_.P_TCP, define_.P_HTTP,define_.P_SSH,define_.P_DNS,define_.P_ARP, define_.P_SSHV2,define_.L_0, define_.L_1, define_.L_2, define_.D_80, define_.D_42972, define_.D_34230, define_.D_50822, define_.D_53, define_.D_22, define_.D_56040, define_.D_161, define_.D_443,\n",
    "                                      define_.R_PUBLIC, define_.R_PRIVATE, define_.R_NON, define_.X_IN, define_.X_OUT, define_.X_NON, define_.C_A1, define_.C_A2, define_.C_A3]\n",
    "\n",
    "oneHotEncodedDF = pd.DataFrame(apriori_functions.oneHot(rules,featureList), columns=featureList)\n",
    "oneHotEncodedDF.to_csv(define_.TRAIN_ENCODED)"
   ],
   "metadata": {
    "collapsed": false,
    "pycharm": {
     "name": "#%%\n"
    }
   }
  },
  {
   "cell_type": "code",
   "execution_count": 4,
   "outputs": [
    {
     "data": {
      "text/plain": "    p-TCP  p-HTTP  p-SSH  p-DNS  p-ARP  p-SSHv2  l-0.0  l-1.0  l-2.0  d-80  \\\n0     0.0     0.0    0.0    0.0    0.0      0.0    0.0    0.0    0.0   0.0   \n1     0.0     0.0    0.0    0.0    0.0      0.0    0.0    0.0    0.0   0.0   \n2     0.0     0.0    0.0    0.0    0.0      0.0    0.0    0.0    0.0   0.0   \n3     0.0     0.0    0.0    0.0    0.0      0.0    0.0    0.0    0.0   0.0   \n4     0.0     0.0    0.0    0.0    0.0      0.0    0.0    0.0    0.0   0.0   \n..    ...     ...    ...    ...    ...      ...    ...    ...    ...   ...   \n72    0.0     0.0    0.0    0.0    0.0      0.0    0.0    0.0    0.0   0.0   \n73    0.0     0.0    0.0    0.0    0.0      0.0    0.0    0.0    0.0   0.0   \n74    0.0     0.0    0.0    0.0    0.0      0.0    0.0    0.0    0.0   0.0   \n75    0.0     0.0    0.0    0.0    0.0      0.0    0.0    0.0    0.0   0.0   \n76    0.0     0.0    0.0    0.0    0.0      0.0    0.0    0.0    0.0   0.0   \n\n    ...  d-443  r-PUBLIC  r-PRIVATE  r-NON  x-IN  x-OUT  x-NON  c-A1  c-A2  \\\n0   ...    0.0       0.0        0.0    0.0   0.0    0.0    0.0   0.0   0.0   \n1   ...    0.0       0.0        0.0    0.0   0.0    0.0    0.0   0.0   0.0   \n2   ...    0.0       0.0        0.0    0.0   0.0    0.0    0.0   0.0   0.0   \n3   ...    0.0       0.0        0.0    0.0   0.0    0.0    0.0   0.0   0.0   \n4   ...    0.0       0.0        0.0    0.0   0.0    0.0    0.0   0.0   0.0   \n..  ...    ...       ...        ...    ...   ...    ...    ...   ...   ...   \n72  ...    0.0       0.0        0.0    0.0   0.0    0.0    0.0   0.0   0.0   \n73  ...    0.0       0.0        0.0    0.0   0.0    0.0    0.0   0.0   0.0   \n74  ...    0.0       0.0        0.0    0.0   0.0    0.0    0.0   0.0   0.0   \n75  ...    0.0       0.0        0.0    0.0   0.0    0.0    0.0   0.0   0.0   \n76  ...    0.0       0.0        0.0    0.0   0.0    0.0    0.0   0.0   0.0   \n\n    c-A3  \n0    0.0  \n1    0.0  \n2    0.0  \n3    0.0  \n4    0.0  \n..   ...  \n72   0.0  \n73   0.0  \n74   0.0  \n75   0.0  \n76   0.0  \n\n[77 rows x 27 columns]",
      "text/html": "<div>\n<style scoped>\n    .dataframe tbody tr th:only-of-type {\n        vertical-align: middle;\n    }\n\n    .dataframe tbody tr th {\n        vertical-align: top;\n    }\n\n    .dataframe thead th {\n        text-align: right;\n    }\n</style>\n<table border=\"1\" class=\"dataframe\">\n  <thead>\n    <tr style=\"text-align: right;\">\n      <th></th>\n      <th>p-TCP</th>\n      <th>p-HTTP</th>\n      <th>p-SSH</th>\n      <th>p-DNS</th>\n      <th>p-ARP</th>\n      <th>p-SSHv2</th>\n      <th>l-0.0</th>\n      <th>l-1.0</th>\n      <th>l-2.0</th>\n      <th>d-80</th>\n      <th>...</th>\n      <th>d-443</th>\n      <th>r-PUBLIC</th>\n      <th>r-PRIVATE</th>\n      <th>r-NON</th>\n      <th>x-IN</th>\n      <th>x-OUT</th>\n      <th>x-NON</th>\n      <th>c-A1</th>\n      <th>c-A2</th>\n      <th>c-A3</th>\n    </tr>\n  </thead>\n  <tbody>\n    <tr>\n      <th>0</th>\n      <td>0.0</td>\n      <td>0.0</td>\n      <td>0.0</td>\n      <td>0.0</td>\n      <td>0.0</td>\n      <td>0.0</td>\n      <td>0.0</td>\n      <td>0.0</td>\n      <td>0.0</td>\n      <td>0.0</td>\n      <td>...</td>\n      <td>0.0</td>\n      <td>0.0</td>\n      <td>0.0</td>\n      <td>0.0</td>\n      <td>0.0</td>\n      <td>0.0</td>\n      <td>0.0</td>\n      <td>0.0</td>\n      <td>0.0</td>\n      <td>0.0</td>\n    </tr>\n    <tr>\n      <th>1</th>\n      <td>0.0</td>\n      <td>0.0</td>\n      <td>0.0</td>\n      <td>0.0</td>\n      <td>0.0</td>\n      <td>0.0</td>\n      <td>0.0</td>\n      <td>0.0</td>\n      <td>0.0</td>\n      <td>0.0</td>\n      <td>...</td>\n      <td>0.0</td>\n      <td>0.0</td>\n      <td>0.0</td>\n      <td>0.0</td>\n      <td>0.0</td>\n      <td>0.0</td>\n      <td>0.0</td>\n      <td>0.0</td>\n      <td>0.0</td>\n      <td>0.0</td>\n    </tr>\n    <tr>\n      <th>2</th>\n      <td>0.0</td>\n      <td>0.0</td>\n      <td>0.0</td>\n      <td>0.0</td>\n      <td>0.0</td>\n      <td>0.0</td>\n      <td>0.0</td>\n      <td>0.0</td>\n      <td>0.0</td>\n      <td>0.0</td>\n      <td>...</td>\n      <td>0.0</td>\n      <td>0.0</td>\n      <td>0.0</td>\n      <td>0.0</td>\n      <td>0.0</td>\n      <td>0.0</td>\n      <td>0.0</td>\n      <td>0.0</td>\n      <td>0.0</td>\n      <td>0.0</td>\n    </tr>\n    <tr>\n      <th>3</th>\n      <td>0.0</td>\n      <td>0.0</td>\n      <td>0.0</td>\n      <td>0.0</td>\n      <td>0.0</td>\n      <td>0.0</td>\n      <td>0.0</td>\n      <td>0.0</td>\n      <td>0.0</td>\n      <td>0.0</td>\n      <td>...</td>\n      <td>0.0</td>\n      <td>0.0</td>\n      <td>0.0</td>\n      <td>0.0</td>\n      <td>0.0</td>\n      <td>0.0</td>\n      <td>0.0</td>\n      <td>0.0</td>\n      <td>0.0</td>\n      <td>0.0</td>\n    </tr>\n    <tr>\n      <th>4</th>\n      <td>0.0</td>\n      <td>0.0</td>\n      <td>0.0</td>\n      <td>0.0</td>\n      <td>0.0</td>\n      <td>0.0</td>\n      <td>0.0</td>\n      <td>0.0</td>\n      <td>0.0</td>\n      <td>0.0</td>\n      <td>...</td>\n      <td>0.0</td>\n      <td>0.0</td>\n      <td>0.0</td>\n      <td>0.0</td>\n      <td>0.0</td>\n      <td>0.0</td>\n      <td>0.0</td>\n      <td>0.0</td>\n      <td>0.0</td>\n      <td>0.0</td>\n    </tr>\n    <tr>\n      <th>...</th>\n      <td>...</td>\n      <td>...</td>\n      <td>...</td>\n      <td>...</td>\n      <td>...</td>\n      <td>...</td>\n      <td>...</td>\n      <td>...</td>\n      <td>...</td>\n      <td>...</td>\n      <td>...</td>\n      <td>...</td>\n      <td>...</td>\n      <td>...</td>\n      <td>...</td>\n      <td>...</td>\n      <td>...</td>\n      <td>...</td>\n      <td>...</td>\n      <td>...</td>\n      <td>...</td>\n    </tr>\n    <tr>\n      <th>72</th>\n      <td>0.0</td>\n      <td>0.0</td>\n      <td>0.0</td>\n      <td>0.0</td>\n      <td>0.0</td>\n      <td>0.0</td>\n      <td>0.0</td>\n      <td>0.0</td>\n      <td>0.0</td>\n      <td>0.0</td>\n      <td>...</td>\n      <td>0.0</td>\n      <td>0.0</td>\n      <td>0.0</td>\n      <td>0.0</td>\n      <td>0.0</td>\n      <td>0.0</td>\n      <td>0.0</td>\n      <td>0.0</td>\n      <td>0.0</td>\n      <td>0.0</td>\n    </tr>\n    <tr>\n      <th>73</th>\n      <td>0.0</td>\n      <td>0.0</td>\n      <td>0.0</td>\n      <td>0.0</td>\n      <td>0.0</td>\n      <td>0.0</td>\n      <td>0.0</td>\n      <td>0.0</td>\n      <td>0.0</td>\n      <td>0.0</td>\n      <td>...</td>\n      <td>0.0</td>\n      <td>0.0</td>\n      <td>0.0</td>\n      <td>0.0</td>\n      <td>0.0</td>\n      <td>0.0</td>\n      <td>0.0</td>\n      <td>0.0</td>\n      <td>0.0</td>\n      <td>0.0</td>\n    </tr>\n    <tr>\n      <th>74</th>\n      <td>0.0</td>\n      <td>0.0</td>\n      <td>0.0</td>\n      <td>0.0</td>\n      <td>0.0</td>\n      <td>0.0</td>\n      <td>0.0</td>\n      <td>0.0</td>\n      <td>0.0</td>\n      <td>0.0</td>\n      <td>...</td>\n      <td>0.0</td>\n      <td>0.0</td>\n      <td>0.0</td>\n      <td>0.0</td>\n      <td>0.0</td>\n      <td>0.0</td>\n      <td>0.0</td>\n      <td>0.0</td>\n      <td>0.0</td>\n      <td>0.0</td>\n    </tr>\n    <tr>\n      <th>75</th>\n      <td>0.0</td>\n      <td>0.0</td>\n      <td>0.0</td>\n      <td>0.0</td>\n      <td>0.0</td>\n      <td>0.0</td>\n      <td>0.0</td>\n      <td>0.0</td>\n      <td>0.0</td>\n      <td>0.0</td>\n      <td>...</td>\n      <td>0.0</td>\n      <td>0.0</td>\n      <td>0.0</td>\n      <td>0.0</td>\n      <td>0.0</td>\n      <td>0.0</td>\n      <td>0.0</td>\n      <td>0.0</td>\n      <td>0.0</td>\n      <td>0.0</td>\n    </tr>\n    <tr>\n      <th>76</th>\n      <td>0.0</td>\n      <td>0.0</td>\n      <td>0.0</td>\n      <td>0.0</td>\n      <td>0.0</td>\n      <td>0.0</td>\n      <td>0.0</td>\n      <td>0.0</td>\n      <td>0.0</td>\n      <td>0.0</td>\n      <td>...</td>\n      <td>0.0</td>\n      <td>0.0</td>\n      <td>0.0</td>\n      <td>0.0</td>\n      <td>0.0</td>\n      <td>0.0</td>\n      <td>0.0</td>\n      <td>0.0</td>\n      <td>0.0</td>\n      <td>0.0</td>\n    </tr>\n  </tbody>\n</table>\n<p>77 rows × 27 columns</p>\n</div>"
     },
     "execution_count": 4,
     "metadata": {},
     "output_type": "execute_result"
    }
   ],
   "source": [
    "oneHotEncodedDF\n",
    "\n"
   ],
   "metadata": {
    "collapsed": false,
    "pycharm": {
     "name": "#%%\n"
    }
   }
  }
 ],
 "metadata": {
  "kernelspec": {
   "display_name": "Python 3",
   "language": "python",
   "name": "python3"
  },
  "language_info": {
   "codemirror_mode": {
    "name": "ipython",
    "version": 2
   },
   "file_extension": ".py",
   "mimetype": "text/x-python",
   "name": "python",
   "nbconvert_exporter": "python",
   "pygments_lexer": "ipython2",
   "version": "2.7.6"
  }
 },
 "nbformat": 4,
 "nbformat_minor": 0
}